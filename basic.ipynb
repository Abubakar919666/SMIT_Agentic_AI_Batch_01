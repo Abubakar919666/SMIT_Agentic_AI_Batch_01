{
 "cells": [
  {
   "cell_type": "code",
   "execution_count": null,
   "id": "7a45d9e3",
   "metadata": {},
   "outputs": [],
   "source": [
    "print(\"Hello world\")"
   ]
  }
 ],
 "metadata": {
  "language_info": {
   "name": "python"
  }
 },
 "nbformat": 4,
 "nbformat_minor": 5
}
