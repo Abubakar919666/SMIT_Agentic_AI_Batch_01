{
  "nbformat": 4,
  "nbformat_minor": 0,
  "metadata": {
    "colab": {
      "provenance": [],
      "include_colab_link": true
    },
    "kernelspec": {
      "name": "python3",
      "display_name": "Python 3"
    },
    "language_info": {
      "name": "python"
    }
  },
  "cells": [
    {
      "cell_type": "markdown",
      "metadata": {
        "id": "view-in-github",
        "colab_type": "text"
      },
      "source": [
        "<a href=\"https://colab.research.google.com/github/Abubakar919666/SMIT_Agentic_AI_Batch_01/blob/main/Class_02.ipynb\" target=\"_parent\"><img src=\"https://colab.research.google.com/assets/colab-badge.svg\" alt=\"Open In Colab\"/></a>"
      ]
    },
    {
      "cell_type": "markdown",
      "source": [
        "## Compound Data Types\n",
        "\n",
        "*   Tuple\n",
        "*   Set\n",
        "*   Duplicates\n",
        "*   Mutable\n",
        "\n"
      ],
      "metadata": {
        "id": "kuyKE1iX8HvY"
      }
    },
    {
      "cell_type": "code",
      "source": [
        "AGI = [\"Agentic AI\", 2, 2.5, True]"
      ],
      "metadata": {
        "id": "-SDBmboN8tny"
      },
      "execution_count": null,
      "outputs": []
    },
    {
      "cell_type": "code",
      "source": [
        "AGI"
      ],
      "metadata": {
        "colab": {
          "base_uri": "https://localhost:8080/"
        },
        "id": "sHoaT78r85YN",
        "outputId": "aa424f34-3d16-4037-c6d9-a9c69ca5c242"
      },
      "execution_count": null,
      "outputs": [
        {
          "output_type": "execute_result",
          "data": {
            "text/plain": [
              "['Agentic AI', 2, 2.5, True]"
            ]
          },
          "metadata": {},
          "execution_count": 4
        }
      ]
    },
    {
      "cell_type": "code",
      "source": [
        "AGI.append(\"Good Luck\")"
      ],
      "metadata": {
        "id": "SwiUnnzW8-Fa"
      },
      "execution_count": null,
      "outputs": []
    },
    {
      "cell_type": "code",
      "source": [
        "AGI"
      ],
      "metadata": {
        "colab": {
          "base_uri": "https://localhost:8080/"
        },
        "id": "7Q3RNCY29H1V",
        "outputId": "e6dcc000-61bc-48df-8683-84c02adea156"
      },
      "execution_count": null,
      "outputs": [
        {
          "output_type": "execute_result",
          "data": {
            "text/plain": [
              "['Agentic AI', 2, 2.5, True, 'Good Luck']"
            ]
          },
          "metadata": {},
          "execution_count": 6
        }
      ]
    },
    {
      "cell_type": "markdown",
      "source": [
        "## [ Starting Index : Ending Index : Steps ]"
      ],
      "metadata": {
        "id": "AH0S-jGO9nHc"
      }
    },
    {
      "cell_type": "code",
      "source": [
        "AGI[::4]"
      ],
      "metadata": {
        "colab": {
          "base_uri": "https://localhost:8080/"
        },
        "id": "fBHILpAX9JEa",
        "outputId": "9ff1ec6c-17ca-458b-de26-7602cc0f70d1"
      },
      "execution_count": null,
      "outputs": [
        {
          "output_type": "execute_result",
          "data": {
            "text/plain": [
              "['Agentic AI', 'Good Luck']"
            ]
          },
          "metadata": {},
          "execution_count": 7
        }
      ]
    },
    {
      "cell_type": "code",
      "source": [
        "word = \"Pakistan\""
      ],
      "metadata": {
        "id": "DRxCmHRm-iXP"
      },
      "execution_count": null,
      "outputs": []
    },
    {
      "cell_type": "code",
      "source": [
        "word[::-1]"
      ],
      "metadata": {
        "colab": {
          "base_uri": "https://localhost:8080/",
          "height": 35
        },
        "id": "4uqyRjYd_Bkv",
        "outputId": "b8c5ab1d-3e53-4b67-b98c-44f38dec5a21"
      },
      "execution_count": null,
      "outputs": [
        {
          "output_type": "execute_result",
          "data": {
            "text/plain": [
              "'natsikaP'"
            ],
            "application/vnd.google.colaboratory.intrinsic+json": {
              "type": "string"
            }
          },
          "metadata": {},
          "execution_count": 11
        }
      ]
    },
    {
      "cell_type": "code",
      "source": [
        "# AGI.extend(\"hello world\")"
      ],
      "metadata": {
        "id": "0Kw7v88v_EM8"
      },
      "execution_count": null,
      "outputs": []
    },
    {
      "cell_type": "code",
      "source": [
        "AGI"
      ],
      "metadata": {
        "colab": {
          "base_uri": "https://localhost:8080/"
        },
        "id": "_qyKaC1B_woj",
        "outputId": "253f8ca6-a226-47c7-c29a-0d1212981a19"
      },
      "execution_count": null,
      "outputs": [
        {
          "output_type": "execute_result",
          "data": {
            "text/plain": [
              "['Agentic AI', 2, 2.5, True]"
            ]
          },
          "metadata": {},
          "execution_count": 18
        }
      ]
    },
    {
      "cell_type": "code",
      "source": [
        "AGI.insert(1, \"AI\")\n",
        "AGI"
      ],
      "metadata": {
        "colab": {
          "base_uri": "https://localhost:8080/"
        },
        "id": "vxN32Ggx_xqF",
        "outputId": "b8d848d3-a856-4488-aec3-46e5b16742b8"
      },
      "execution_count": null,
      "outputs": [
        {
          "output_type": "execute_result",
          "data": {
            "text/plain": [
              "['Agentic AI', 'AI', 2, 2.5, True]"
            ]
          },
          "metadata": {},
          "execution_count": 19
        }
      ]
    },
    {
      "cell_type": "code",
      "source": [
        "AGI[1] = [\"AI\", \"ANI\"]\n",
        "AGI"
      ],
      "metadata": {
        "colab": {
          "base_uri": "https://localhost:8080/"
        },
        "id": "rBv2xArXAaVT",
        "outputId": "bdd95625-9db9-4656-c9e7-dbfe48676ff6"
      },
      "execution_count": null,
      "outputs": [
        {
          "output_type": "execute_result",
          "data": {
            "text/plain": [
              "['Agentic AI', ['AI', 'ANI'], 2, 2.5, True]"
            ]
          },
          "metadata": {},
          "execution_count": 20
        }
      ]
    },
    {
      "cell_type": "code",
      "source": [
        "AGI.pop(1)"
      ],
      "metadata": {
        "colab": {
          "base_uri": "https://localhost:8080/"
        },
        "id": "oIUiGlyYAu-X",
        "outputId": "9401dc2f-554e-43da-a010-d75f9b1b2890"
      },
      "execution_count": null,
      "outputs": [
        {
          "output_type": "execute_result",
          "data": {
            "text/plain": [
              "['AI', 'ANI']"
            ]
          },
          "metadata": {},
          "execution_count": 25
        }
      ]
    },
    {
      "cell_type": "code",
      "source": [
        "AGI"
      ],
      "metadata": {
        "colab": {
          "base_uri": "https://localhost:8080/"
        },
        "id": "qhvBiBhmBPv0",
        "outputId": "6088dd83-afda-4952-f768-9bb1553c7d9c"
      },
      "execution_count": null,
      "outputs": [
        {
          "output_type": "execute_result",
          "data": {
            "text/plain": [
              "['Agentic AI', 2.5, True]"
            ]
          },
          "metadata": {},
          "execution_count": 26
        }
      ]
    },
    {
      "cell_type": "markdown",
      "source": [
        "## Tuples\n",
        "\n",
        "*   Ordered\n",
        "*   Unchangeable\n",
        "*   Duplicates Allow\n",
        "\n"
      ],
      "metadata": {
        "id": "SiGBMEo_CO_q"
      }
    },
    {
      "cell_type": "code",
      "source": [
        "tuple1 = (\"Agentic AI\", 2, 2.5, True)"
      ],
      "metadata": {
        "id": "vn7WKEV2BVdU"
      },
      "execution_count": null,
      "outputs": []
    },
    {
      "cell_type": "code",
      "source": [
        "tuple1"
      ],
      "metadata": {
        "colab": {
          "base_uri": "https://localhost:8080/"
        },
        "id": "nzI00taEC3Vl",
        "outputId": "8b29b2ad-a51c-41e4-a687-ee11036d0b76"
      },
      "execution_count": null,
      "outputs": [
        {
          "output_type": "execute_result",
          "data": {
            "text/plain": [
              "('Agentic AI', 2, 2.5, True)"
            ]
          },
          "metadata": {},
          "execution_count": 31
        }
      ]
    },
    {
      "cell_type": "code",
      "source": [
        "tuple1.index(True)"
      ],
      "metadata": {
        "colab": {
          "base_uri": "https://localhost:8080/"
        },
        "id": "hU6S3dGkC43F",
        "outputId": "83eaf340-cfaa-48b4-9b2e-5939ce3e8e1c"
      },
      "execution_count": null,
      "outputs": [
        {
          "output_type": "execute_result",
          "data": {
            "text/plain": [
              "3"
            ]
          },
          "metadata": {},
          "execution_count": 33
        }
      ]
    },
    {
      "cell_type": "code",
      "source": [
        "tuple1.count(2)"
      ],
      "metadata": {
        "colab": {
          "base_uri": "https://localhost:8080/"
        },
        "id": "N5QZbJUzDCr2",
        "outputId": "223d6ff4-a414-405a-e285-912f7f8d5534"
      },
      "execution_count": null,
      "outputs": [
        {
          "output_type": "execute_result",
          "data": {
            "text/plain": [
              "1"
            ]
          },
          "metadata": {},
          "execution_count": 38
        }
      ]
    },
    {
      "cell_type": "code",
      "source": [
        "listTuple = list(tuple1)\n",
        "listTuple"
      ],
      "metadata": {
        "colab": {
          "base_uri": "https://localhost:8080/"
        },
        "id": "434qg5F4DMcr",
        "outputId": "8b67cf36-2e56-473c-8572-5727cbb9501b"
      },
      "execution_count": null,
      "outputs": [
        {
          "output_type": "execute_result",
          "data": {
            "text/plain": [
              "['Agentic AI', 2, 2.5, True]"
            ]
          },
          "metadata": {},
          "execution_count": 39
        }
      ]
    },
    {
      "cell_type": "code",
      "source": [
        "tuple1"
      ],
      "metadata": {
        "colab": {
          "base_uri": "https://localhost:8080/"
        },
        "id": "27tSn40LDrFh",
        "outputId": "e6a34745-0205-4803-e6ee-75ae608a5249"
      },
      "execution_count": null,
      "outputs": [
        {
          "output_type": "execute_result",
          "data": {
            "text/plain": [
              "('Agentic AI', 2, 2.5, True)"
            ]
          },
          "metadata": {},
          "execution_count": 40
        }
      ]
    },
    {
      "cell_type": "markdown",
      "source": [
        "## Sets\n",
        "\n",
        "\n",
        "*   Unordered\n",
        "*   Changeable\n",
        "*   No-Duplicates\n",
        "*   Mutable\n",
        "\n"
      ],
      "metadata": {
        "id": "wKzecNUODxR6"
      }
    },
    {
      "cell_type": "code",
      "source": [
        "set1 = {1, 2, 3, 4, 5, 6, 7, 8, 9, 0, \"A\", \"B\", \"C\", \"D\"}\n",
        "set1"
      ],
      "metadata": {
        "colab": {
          "base_uri": "https://localhost:8080/"
        },
        "id": "AP32dkosDthM",
        "outputId": "a52b221d-6d2c-42dc-db49-0a26d82c5d78"
      },
      "execution_count": null,
      "outputs": [
        {
          "output_type": "execute_result",
          "data": {
            "text/plain": [
              "{0, 1, 2, 3, 4, 5, 6, 7, 8, 9, 'A', 'B', 'C', 'D'}"
            ]
          },
          "metadata": {},
          "execution_count": 44
        }
      ]
    },
    {
      "cell_type": "code",
      "source": [
        "set2 = {1, 2, 3, 4, 5, 6, 7, 8, 9, 0, \"A\", \"B\", \"C\", \"D\", 'AAPPLE', \"APPLE\"}\n",
        "set2"
      ],
      "metadata": {
        "colab": {
          "base_uri": "https://localhost:8080/"
        },
        "id": "jsnDIFY8EX5h",
        "outputId": "ac8db67a-bedf-4401-f608-c2f4abe7539d"
      },
      "execution_count": null,
      "outputs": [
        {
          "output_type": "execute_result",
          "data": {
            "text/plain": [
              "{0, 1, 2, 3, 4, 5, 6, 7, 8, 9, 'A', 'AAPPLE', 'APPLE', 'B', 'C', 'D'}"
            ]
          },
          "metadata": {},
          "execution_count": 45
        }
      ]
    },
    {
      "cell_type": "code",
      "source": [
        "set1.pop()"
      ],
      "metadata": {
        "colab": {
          "base_uri": "https://localhost:8080/"
        },
        "id": "-QU4_JF2E270",
        "outputId": "8723e708-ba22-43a4-bab2-cc7cde63770f"
      },
      "execution_count": null,
      "outputs": [
        {
          "output_type": "execute_result",
          "data": {
            "text/plain": [
              "0"
            ]
          },
          "metadata": {},
          "execution_count": 46
        }
      ]
    },
    {
      "cell_type": "code",
      "source": [
        "set1"
      ],
      "metadata": {
        "id": "KWR3uhE2FOVj",
        "outputId": "4e2ebf60-2485-4317-c225-19e010cbfcbd",
        "colab": {
          "base_uri": "https://localhost:8080/"
        }
      },
      "execution_count": null,
      "outputs": [
        {
          "output_type": "execute_result",
          "data": {
            "text/plain": [
              "{1, 2, 3, 4, 5, 6, 7, 8, 9, 'A', 'B', 'C', 'D'}"
            ]
          },
          "metadata": {},
          "execution_count": 47
        }
      ]
    },
    {
      "cell_type": "markdown",
      "source": [
        "## Dictionary\n",
        "\n",
        "\n",
        "*   Changeable\n",
        "*   Keys Duplicate Not Allow\n",
        "*   Value Duplicates allow.\n",
        "*   Mutable\n",
        "\n"
      ],
      "metadata": {
        "id": "3P7lCF61MHRW"
      }
    },
    {
      "cell_type": "code",
      "source": [
        "dict1 = {\"class\" : \"Agentic AI\", \"Student Count\":102}"
      ],
      "metadata": {
        "id": "et9CeLpCFPyx"
      },
      "execution_count": null,
      "outputs": []
    },
    {
      "cell_type": "code",
      "source": [
        "dict1[\"class\"]"
      ],
      "metadata": {
        "colab": {
          "base_uri": "https://localhost:8080/",
          "height": 35
        },
        "id": "zFE6XLGVNh7q",
        "outputId": "1c0ae106-1d97-484b-8421-254f2be15aca"
      },
      "execution_count": null,
      "outputs": [
        {
          "output_type": "execute_result",
          "data": {
            "text/plain": [
              "'Agentic AI'"
            ],
            "application/vnd.google.colaboratory.intrinsic+json": {
              "type": "string"
            }
          },
          "metadata": {},
          "execution_count": 51
        }
      ]
    },
    {
      "cell_type": "markdown",
      "source": [
        "Next class : Conditional satatements, dictionary\n"
      ],
      "metadata": {
        "id": "Siyw3MUkN7s6"
      }
    }
  ]
}