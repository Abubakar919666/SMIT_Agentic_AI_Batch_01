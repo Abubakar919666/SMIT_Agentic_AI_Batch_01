{
 "cells": [
  {
   "cell_type": "markdown",
   "id": "7dc3232d",
   "metadata": {},
   "source": [
    "# OOP"
   ]
  },
  {
   "cell_type": "code",
   "execution_count": 1,
   "id": "c846dac0",
   "metadata": {},
   "outputs": [],
   "source": [
    "#Class Syntax \n",
    "\n",
    "# class ClassName:\n",
    "#     object / instance"
   ]
  },
  {
   "cell_type": "code",
   "execution_count": 15,
   "id": "a99d4645",
   "metadata": {},
   "outputs": [],
   "source": [
    "class Students:\n",
    "    def __init__(self):\n",
    "       self.ClassName = \"Agentic AI\"\n",
    "       \n",
    "    def detail(self, name):\n",
    "     self.name = name"
   ]
  },
  {
   "cell_type": "code",
   "execution_count": 16,
   "id": "9a4279fc",
   "metadata": {},
   "outputs": [],
   "source": [
    "s1 = Students()\n",
    "s1.detail(\"Danial\")"
   ]
  },
  {
   "cell_type": "code",
   "execution_count": 17,
   "id": "0452325f",
   "metadata": {},
   "outputs": [
    {
     "data": {
      "text/plain": [
       "'Danial'"
      ]
     },
     "execution_count": 17,
     "metadata": {},
     "output_type": "execute_result"
    }
   ],
   "source": [
    "s1.name"
   ]
  },
  {
   "cell_type": "code",
   "execution_count": 18,
   "id": "5c0ae00f",
   "metadata": {},
   "outputs": [
    {
     "data": {
      "text/plain": [
       "'Agentic AI'"
      ]
     },
     "execution_count": 18,
     "metadata": {},
     "output_type": "execute_result"
    }
   ],
   "source": [
    "s1.ClassName"
   ]
  },
  {
   "cell_type": "markdown",
   "id": "9910d422",
   "metadata": {},
   "source": [
    "## Key Principles of OOP\n",
    "\n",
    "OOP is built on four fundamental principles\n",
    "\n",
    "* Abstraction:\n",
    "* Encapsulation:\n",
    "* Inheritance:\n",
    "* Polymorphism:"
   ]
  },
  {
   "cell_type": "code",
   "execution_count": null,
   "id": "05305aa3",
   "metadata": {},
   "outputs": [],
   "source": [
    "#  Abstraction:\n",
    "class Car:\n",
    "    def __init__(self):\n",
    "        self.acc = False\n",
    "        self.brake = False\n",
    "        self.clutch = False\n",
    "    \n",
    "    def start(self):\n",
    "        self.acc = True\n",
    "        self.clutch = True\n",
    "        print(\"Car is started ...\")\n",
    "\n",
    "    def stop(self):\n",
    "        self.brake = True\n",
    "        self.clutch = True\n",
    "        print(\"Car is stop ...\")   \n",
    "\n",
    "    def\n"
   ]
  },
  {
   "cell_type": "code",
   "execution_count": 20,
   "id": "338e9738",
   "metadata": {},
   "outputs": [],
   "source": [
    "startCar = Car()\n",
    "# StartCar.start()"
   ]
  },
  {
   "cell_type": "code",
   "execution_count": 21,
   "id": "cc725f5a",
   "metadata": {},
   "outputs": [
    {
     "name": "stdout",
     "output_type": "stream",
     "text": [
      "Car is stop ...\n"
     ]
    }
   ],
   "source": [
    "startCar.stop()"
   ]
  },
  {
   "cell_type": "code",
   "execution_count": null,
   "id": "99b4c2f0",
   "metadata": {},
   "outputs": [],
   "source": []
  }
 ],
 "metadata": {
  "kernelspec": {
   "display_name": "Python 3",
   "language": "python",
   "name": "python3"
  },
  "language_info": {
   "codemirror_mode": {
    "name": "ipython",
    "version": 3
   },
   "file_extension": ".py",
   "mimetype": "text/x-python",
   "name": "python",
   "nbconvert_exporter": "python",
   "pygments_lexer": "ipython3",
   "version": "3.11.9"
  }
 },
 "nbformat": 4,
 "nbformat_minor": 5
}
