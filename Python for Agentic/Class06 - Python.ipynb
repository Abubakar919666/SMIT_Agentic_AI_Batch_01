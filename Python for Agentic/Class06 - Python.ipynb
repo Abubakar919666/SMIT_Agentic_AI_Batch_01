{
 "cells": [
  {
   "cell_type": "markdown",
   "id": "2f2413ad-cfc4-45b6-b702-c26b5298e582",
   "metadata": {},
   "source": [
    "## Inheritance \n",
    "## Polymorphism"
   ]
  },
  {
   "cell_type": "code",
   "execution_count": 1,
   "id": "01058182-73f8-4e4c-8494-c710e8ed04d5",
   "metadata": {},
   "outputs": [],
   "source": [
    "# Inheritance"
   ]
  },
  {
   "cell_type": "code",
   "execution_count": 3,
   "id": "8b1e6451-7957-4dbf-8d7c-7cb497aa39e0",
   "metadata": {},
   "outputs": [],
   "source": [
    "class Animal:\n",
    "    def speak(self):\n",
    "        return f\"Animal Voices\"\n",
    "\n",
    "class Cat(Animal):\n",
    "    def meow(self):\n",
    "        return f\"Cat Meow\"\n",
    "\n",
    "class Dog(Animal):\n",
    "    def bark(self):\n",
    "        return f\"Dog Bark\""
   ]
  },
  {
   "cell_type": "code",
   "execution_count": 4,
   "id": "bf0f124f-1091-4ed3-bfe0-9f44940a0622",
   "metadata": {},
   "outputs": [],
   "source": [
    "animal1 = Cat()"
   ]
  },
  {
   "cell_type": "code",
   "execution_count": 5,
   "id": "f8c895b9-735a-48b1-9a27-461fbbfb7dac",
   "metadata": {},
   "outputs": [
    {
     "data": {
      "text/plain": [
       "'Cat Meow'"
      ]
     },
     "execution_count": 5,
     "metadata": {},
     "output_type": "execute_result"
    }
   ],
   "source": [
    "animal1.meow()"
   ]
  },
  {
   "cell_type": "code",
   "execution_count": 6,
   "id": "c782302b-b2b6-45be-8691-e5324421e639",
   "metadata": {},
   "outputs": [
    {
     "data": {
      "text/plain": [
       "'Animal Voices'"
      ]
     },
     "execution_count": 6,
     "metadata": {},
     "output_type": "execute_result"
    }
   ],
   "source": [
    "animal1.speak()"
   ]
  },
  {
   "cell_type": "code",
   "execution_count": 7,
   "id": "480547d7-6e30-42b9-8a19-e2d174080346",
   "metadata": {},
   "outputs": [],
   "source": [
    "animal2 = Dog()"
   ]
  },
  {
   "cell_type": "code",
   "execution_count": 8,
   "id": "ddc5c70e-ea2b-4d52-8811-074b61c41cba",
   "metadata": {},
   "outputs": [
    {
     "data": {
      "text/plain": [
       "'Dog Bark'"
      ]
     },
     "execution_count": 8,
     "metadata": {},
     "output_type": "execute_result"
    }
   ],
   "source": [
    "animal2.bark()"
   ]
  },
  {
   "cell_type": "code",
   "execution_count": 28,
   "id": "fe32516e-029d-4ede-816f-f0c1c490bf83",
   "metadata": {},
   "outputs": [],
   "source": [
    "class Animal:\n",
    "    def speak(self):\n",
    "        print(f\"Animal Voices\")\n",
    "\n",
    "class Cat(Animal):\n",
    "    def meow(self):\n",
    "        return f\"Cat Meow\"\n",
    "\n",
    "class Dog(Animal):\n",
    "    def bark(self):\n",
    "        return f\"Dog Bark\"\n",
    "\n",
    "class Snake(Animal):\n",
    "    def speak(self):\n",
    "        super().speak()\n",
    "        print(f\"Snake Voice\")"
   ]
  },
  {
   "cell_type": "code",
   "execution_count": 29,
   "id": "d3c7d994-d01e-40c1-b83b-209a0356ceeb",
   "metadata": {},
   "outputs": [],
   "source": [
    "animal3 = Snake()"
   ]
  },
  {
   "cell_type": "code",
   "execution_count": 30,
   "id": "98e0d09f-3b8d-44d1-a81c-08bca6d94d5e",
   "metadata": {},
   "outputs": [
    {
     "name": "stdout",
     "output_type": "stream",
     "text": [
      "Animal Voices\n",
      "Snake Voice\n"
     ]
    }
   ],
   "source": [
    "animal3.speak()"
   ]
  },
  {
   "cell_type": "markdown",
   "id": "b09ca627-accb-4d17-a57e-3105c6bbb375",
   "metadata": {},
   "source": [
    "# What is inheritance?"
   ]
  },
  {
   "cell_type": "markdown",
   "id": "32541958-cc30-4918-9c5f-984288860d11",
   "metadata": {},
   "source": [
    "# Polymorphism"
   ]
  },
  {
   "cell_type": "code",
   "execution_count": 31,
   "id": "fa9ede3b-0552-493c-a6c1-869c9b194ef9",
   "metadata": {},
   "outputs": [],
   "source": [
    "def abc(a):\n",
    "    print(\"i am abc\")"
   ]
  },
  {
   "cell_type": "code",
   "execution_count": 32,
   "id": "221e0b18-94a6-4fc8-99c2-0540c29c174d",
   "metadata": {},
   "outputs": [],
   "source": [
    "def abc(a,b,c):\n",
    "    print(\"i am a,b,c\")\n",
    "    "
   ]
  },
  {
   "cell_type": "markdown",
   "id": "e21f6a77-d6f2-4d1b-949e-bad0042543e1",
   "metadata": {},
   "source": [
    "# When a method of Parent class is redefined in child class method overridding : Polymorphsim"
   ]
  },
  {
   "cell_type": "code",
   "execution_count": 49,
   "id": "0babee5b-10e8-41dc-85b8-51689c2859f4",
   "metadata": {},
   "outputs": [],
   "source": [
    "class Car:\n",
    "    wheel =4 \n",
    "    def __init__(self, make, model, year, color):\n",
    "        self.make = make\n",
    "        self.model = model \n",
    "        self.year = year\n",
    "        self.color = color\n",
    "    def start(self):\n",
    "        return f\"{self.make} {self.model} is started\"\n",
    "    def fill_gas(self):\n",
    "        return f\"{self.make} {self.model} is filling gasoline\"\n",
    "    def stop(self):\n",
    "        return f\"{self.make} {self.model} is stopped\""
   ]
  },
  {
   "cell_type": "code",
   "execution_count": 50,
   "id": "e917a9df-f474-4d75-b78e-432fb3b0f474",
   "metadata": {},
   "outputs": [],
   "source": [
    "car1 = Car('Honda','Civic',2020, 'Black')"
   ]
  },
  {
   "cell_type": "code",
   "execution_count": 51,
   "id": "09f8dd83-7d4b-439a-a353-0f860feaa6bb",
   "metadata": {},
   "outputs": [
    {
     "data": {
      "text/plain": [
       "4"
      ]
     },
     "execution_count": 51,
     "metadata": {},
     "output_type": "execute_result"
    }
   ],
   "source": [
    "Car.wheel"
   ]
  },
  {
   "cell_type": "code",
   "execution_count": 52,
   "id": "5217b9cb-00cf-4c74-9eb7-9cb5968792a6",
   "metadata": {},
   "outputs": [
    {
     "data": {
      "text/plain": [
       "4"
      ]
     },
     "execution_count": 52,
     "metadata": {},
     "output_type": "execute_result"
    }
   ],
   "source": [
    "car1.wheel"
   ]
  },
  {
   "cell_type": "code",
   "execution_count": 53,
   "id": "b3d1a805-b202-4e47-9c5f-c57013b37390",
   "metadata": {},
   "outputs": [],
   "source": [
    "Car.wheel = 6"
   ]
  },
  {
   "cell_type": "code",
   "execution_count": 54,
   "id": "ddf6ba2a-d33b-4435-954d-5f808d9c1acc",
   "metadata": {},
   "outputs": [
    {
     "data": {
      "text/plain": [
       "6"
      ]
     },
     "execution_count": 54,
     "metadata": {},
     "output_type": "execute_result"
    }
   ],
   "source": [
    "car1.wheel"
   ]
  },
  {
   "cell_type": "code",
   "execution_count": 57,
   "id": "ee3eaeab-1b2d-4b9c-8453-2073daef1ef1",
   "metadata": {},
   "outputs": [],
   "source": [
    "car1.price = 10000000"
   ]
  },
  {
   "cell_type": "code",
   "execution_count": null,
   "id": "2691804c-03ef-4c98-87bc-6a0eac93db8f",
   "metadata": {},
   "outputs": [],
   "source": []
  },
  {
   "cell_type": "code",
   "execution_count": null,
   "id": "b8cf641c-2fa9-4002-9a0e-37146fd624ec",
   "metadata": {},
   "outputs": [],
   "source": []
  },
  {
   "cell_type": "code",
   "execution_count": 6,
   "id": "15228735-fbd4-4e7e-9cda-203e76543036",
   "metadata": {},
   "outputs": [],
   "source": [
    "class ElectricCar(Car):\n",
    "    def fill_gas(self):\n",
    "        return \"electic car has no fuel tank\""
   ]
  },
  {
   "cell_type": "code",
   "execution_count": 7,
   "id": "eb44ea6f-b91c-4fde-8d52-f27e966845fb",
   "metadata": {},
   "outputs": [],
   "source": [
    "ecar1 = ElectricCar('Honda','Civic',2020, 'Black')"
   ]
  },
  {
   "cell_type": "code",
   "execution_count": 8,
   "id": "4b225dc2-0f31-4dda-aa07-5935fa964af0",
   "metadata": {},
   "outputs": [
    {
     "data": {
      "text/plain": [
       "'electic car has no fuel tank'"
      ]
     },
     "execution_count": 8,
     "metadata": {},
     "output_type": "execute_result"
    }
   ],
   "source": [
    "ecar1.fill_gas()"
   ]
  },
  {
   "cell_type": "markdown",
   "id": "428b2620-07a4-4317-8eed-1b0b7ad2c2ab",
   "metadata": {},
   "source": [
    "# Multilevel Inheritance & Multiple Inheritance"
   ]
  },
  {
   "cell_type": "code",
   "execution_count": 39,
   "id": "84616cce-fe21-4b3e-94d7-f6fd1a35ea15",
   "metadata": {},
   "outputs": [],
   "source": [
    "class A():\n",
    "    def __init__(self):\n",
    "        print('I am class A constructor')\n"
   ]
  },
  {
   "cell_type": "code",
   "execution_count": 40,
   "id": "5c0d2214-61fa-446a-848b-6a90bba327cf",
   "metadata": {},
   "outputs": [],
   "source": [
    "class B():\n",
    "    def __init__(self):\n",
    "        print('I am class B constructor')\n",
    "        "
   ]
  },
  {
   "cell_type": "code",
   "execution_count": 29,
   "id": "950c4cf0-dbdd-41a4-b61f-7ed02cfab1e7",
   "metadata": {},
   "outputs": [],
   "source": [
    "class B(A):\n",
    "    def __init__(self):\n",
    "        print('I am class B constructor')\n",
    "        super().__init__()"
   ]
  },
  {
   "cell_type": "code",
   "execution_count": 34,
   "id": "73bbe606-4c7c-4280-8ac6-fdf7000dc74f",
   "metadata": {},
   "outputs": [],
   "source": [
    "class C(B):\n",
    "    def __init__(self):\n",
    "        super().__init__()\n",
    "        print('I am class C constructor')"
   ]
  },
  {
   "cell_type": "code",
   "execution_count": 35,
   "id": "cf8019be-dcbc-421a-ba89-4f9475c6f7ef",
   "metadata": {},
   "outputs": [
    {
     "name": "stdout",
     "output_type": "stream",
     "text": [
      "I am class A constructor\n"
     ]
    }
   ],
   "source": [
    "a = A()"
   ]
  },
  {
   "cell_type": "code",
   "execution_count": 36,
   "id": "a1f7b22d-b96e-4400-b190-789f39daac0d",
   "metadata": {},
   "outputs": [
    {
     "name": "stdout",
     "output_type": "stream",
     "text": [
      "I am class B constructor\n",
      "I am class A constructor\n"
     ]
    }
   ],
   "source": [
    "b = B()"
   ]
  },
  {
   "cell_type": "code",
   "execution_count": 37,
   "id": "56c2d331-3a45-47a5-9c6e-55688366e153",
   "metadata": {},
   "outputs": [
    {
     "name": "stdout",
     "output_type": "stream",
     "text": [
      "I am class B constructor\n",
      "I am class A constructor\n",
      "I am class C constructor\n"
     ]
    }
   ],
   "source": [
    "c = C()"
   ]
  },
  {
   "cell_type": "code",
   "execution_count": 41,
   "id": "f9760925-cfce-4d66-b381-d769abcc8d23",
   "metadata": {},
   "outputs": [],
   "source": [
    "class C(A,B):\n",
    "    def __init__(self):\n",
    "       \n",
    "        print('I am class C constructor')\n",
    "        super().__init__()"
   ]
  },
  {
   "cell_type": "code",
   "execution_count": 42,
   "id": "287698a0-3aa8-454a-a50e-500d496fe8cf",
   "metadata": {},
   "outputs": [
    {
     "name": "stdout",
     "output_type": "stream",
     "text": [
      "I am class C constructor\n",
      "I am class A constructor\n"
     ]
    }
   ],
   "source": [
    "c = C()"
   ]
  },
  {
   "cell_type": "markdown",
   "id": "4cc558fc-6818-4dd7-ba84-5ce8379417bb",
   "metadata": {},
   "source": [
    "# Class Level Attributes Object Level Attributes"
   ]
  },
  {
   "cell_type": "code",
   "execution_count": 46,
   "id": "29d29cd2-48fe-4468-abcc-9d64f4c87a49",
   "metadata": {},
   "outputs": [
    {
     "data": {
      "text/plain": [
       "'Honda Civic is started'"
      ]
     },
     "execution_count": 46,
     "metadata": {},
     "output_type": "execute_result"
    }
   ],
   "source": [
    "Car.start(car1)"
   ]
  },
  {
   "cell_type": "code",
   "execution_count": 55,
   "id": "13c8b7d7-9a3f-4ea7-907f-349d8227130d",
   "metadata": {},
   "outputs": [],
   "source": [
    "car1.wheel = 10"
   ]
  }
 ],
 "metadata": {
  "kernelspec": {
   "display_name": "Python 3",
   "language": "python",
   "name": "python3"
  },
  "language_info": {
   "codemirror_mode": {
    "name": "ipython",
    "version": 3
   },
   "file_extension": ".py",
   "mimetype": "text/x-python",
   "name": "python",
   "nbconvert_exporter": "python",
   "pygments_lexer": "ipython3",
   "version": "3.11.9"
  }
 },
 "nbformat": 4,
 "nbformat_minor": 5
}
