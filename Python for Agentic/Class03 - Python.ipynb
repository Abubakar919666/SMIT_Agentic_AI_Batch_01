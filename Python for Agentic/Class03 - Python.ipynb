{
 "cells": [
  {
   "cell_type": "markdown",
   "id": "6f2f7023-c774-4ac7-8e05-6d13bfed3192",
   "metadata": {},
   "source": [
    "## Compund Data Type\n",
    "\n",
    "### DICT"
   ]
  },
  {
   "cell_type": "code",
   "execution_count": 6,
   "id": "f67d9fae-6cd9-46b7-80a6-2b5b688ce592",
   "metadata": {},
   "outputs": [],
   "source": [
    "# dict1 = {key : value}\n",
    "\n",
    "# uniques Keys, ordered, duplication not allow"
   ]
  },
  {
   "cell_type": "code",
   "execution_count": 2,
   "id": "59f9e230-6e04-4496-bae8-223f3f393179",
   "metadata": {},
   "outputs": [],
   "source": [
    "dict1 = {1 : \"Agentic Ai\"}"
   ]
  },
  {
   "cell_type": "code",
   "execution_count": 5,
   "id": "377f63d2-dbe0-466b-b4ff-a2415c6ad929",
   "metadata": {},
   "outputs": [
    {
     "data": {
      "text/plain": [
       "{True: 'Agentic Ai'}"
      ]
     },
     "execution_count": 5,
     "metadata": {},
     "output_type": "execute_result"
    }
   ],
   "source": [
    "dict1"
   ]
  },
  {
   "cell_type": "code",
   "execution_count": 7,
   "id": "72ae988c-d75f-4828-ac39-3cc06048ebd3",
   "metadata": {},
   "outputs": [],
   "source": [
    "dict1 = {\"CourseName\" : \"Agentic Ai\"}"
   ]
  },
  {
   "cell_type": "code",
   "execution_count": 9,
   "id": "cfa042bc-36aa-4c27-b9ff-847d6e627eab",
   "metadata": {},
   "outputs": [],
   "source": [
    "list1 = ['AI','AGI']"
   ]
  },
  {
   "cell_type": "code",
   "execution_count": 10,
   "id": "940538cc-1b9c-47f6-935b-d63822252282",
   "metadata": {},
   "outputs": [
    {
     "data": {
      "text/plain": [
       "{'AI': None, 'AGI': None}"
      ]
     },
     "execution_count": 10,
     "metadata": {},
     "output_type": "execute_result"
    }
   ],
   "source": [
    "dict1.fromkeys(list1)"
   ]
  },
  {
   "cell_type": "code",
   "execution_count": 11,
   "id": "2ce3c5ac-ef5b-4402-a1cd-67e362eebe1a",
   "metadata": {},
   "outputs": [
    {
     "data": {
      "text/plain": [
       "{'CourseName': 'Agentic Ai'}"
      ]
     },
     "execution_count": 11,
     "metadata": {},
     "output_type": "execute_result"
    }
   ],
   "source": [
    "dict1"
   ]
  },
  {
   "cell_type": "code",
   "execution_count": 13,
   "id": "cfc1027f-555c-43dd-9f92-67d3eb17849a",
   "metadata": {},
   "outputs": [
    {
     "data": {
      "text/plain": [
       "'Agentic Ai'"
      ]
     },
     "execution_count": 13,
     "metadata": {},
     "output_type": "execute_result"
    }
   ],
   "source": [
    "dict1.get('CourseName')"
   ]
  },
  {
   "cell_type": "code",
   "execution_count": 15,
   "id": "a95c9f00-8ef2-483a-a6b1-0f26afc5e5fc",
   "metadata": {},
   "outputs": [
    {
     "data": {
      "text/plain": [
       "'Agentic Ai'"
      ]
     },
     "execution_count": 15,
     "metadata": {},
     "output_type": "execute_result"
    }
   ],
   "source": [
    "dict1['CourseName']"
   ]
  },
  {
   "cell_type": "markdown",
   "id": "c25fd2d3-0fdd-415e-b77b-6f89759cce41",
   "metadata": {},
   "source": [
    "### if -else - Conditions"
   ]
  },
  {
   "cell_type": "code",
   "execution_count": 16,
   "id": "9cd73d11-c79c-415e-80be-2f52ba2f98ef",
   "metadata": {},
   "outputs": [],
   "source": [
    "# if condition:\n",
    "  # code block / statment  "
   ]
  },
  {
   "cell_type": "code",
   "execution_count": 18,
   "id": "d8cc6cd1-521a-40d2-a046-3276add7c2cc",
   "metadata": {},
   "outputs": [
    {
     "name": "stdout",
     "output_type": "stream",
     "text": [
      "Not Equal\n"
     ]
    }
   ],
   "source": [
    "if 2!=3:\n",
    "    print(\"Not Equal\")"
   ]
  },
  {
   "cell_type": "code",
   "execution_count": 19,
   "id": "51abb173-e2ba-409b-933d-a534aa12ad59",
   "metadata": {},
   "outputs": [
    {
     "name": "stdout",
     "output_type": "stream",
     "text": [
      "Not Equal\n"
     ]
    }
   ],
   "source": [
    "if 2==3:\n",
    "    print(\"Equal\")\n",
    "else:\n",
    "    print(\"Not Equal\")"
   ]
  },
  {
   "cell_type": "code",
   "execution_count": 21,
   "id": "69d0832d-531a-489b-b7a2-b77fec791acb",
   "metadata": {},
   "outputs": [
    {
     "name": "stdout",
     "output_type": "stream",
     "text": [
      "Not Equal\n"
     ]
    }
   ],
   "source": [
    "print(\"Equal\") if 2!=2 else print(\"Not Equal\")"
   ]
  },
  {
   "cell_type": "markdown",
   "id": "24f73c98-711a-4f9e-bf63-2ca938cf9c98",
   "metadata": {},
   "source": [
    "### Match Case"
   ]
  },
  {
   "cell_type": "code",
   "execution_count": 23,
   "id": "bb968986-2b78-44c9-9adc-5d1f19c69263",
   "metadata": {},
   "outputs": [
    {
     "name": "stdout",
     "output_type": "stream",
     "text": [
      "Matched\n"
     ]
    }
   ],
   "source": [
    "match 'Red':\n",
    " case 'Black':\n",
    "     print(\"Not Matched\")\n",
    " case 'Red':\n",
    "     print(\"Matched\")"
   ]
  },
  {
   "cell_type": "code",
   "execution_count": 25,
   "id": "0dde61cf-c250-4f70-a967-ae43a7918fd6",
   "metadata": {},
   "outputs": [],
   "source": [
    "color = 'RED'"
   ]
  },
  {
   "cell_type": "code",
   "execution_count": 27,
   "id": "5027b4cf-553b-4841-a775-300049569f94",
   "metadata": {},
   "outputs": [],
   "source": [
    "if color is \"RED\":\n",
    "    pass"
   ]
  },
  {
   "cell_type": "markdown",
   "id": "7e93fb45-e5fa-4552-afda-3fc04139f161",
   "metadata": {},
   "source": [
    "### While Loop"
   ]
  },
  {
   "cell_type": "code",
   "execution_count": 30,
   "id": "4819cd7c-363b-4f62-9c0a-ce63c6e4a23b",
   "metadata": {},
   "outputs": [
    {
     "name": "stdout",
     "output_type": "stream",
     "text": [
      "1\n",
      "2\n",
      "3\n",
      "4\n",
      "5\n",
      "6\n",
      "7\n",
      "8\n",
      "9\n",
      "10\n"
     ]
    }
   ],
   "source": [
    "a = 1\n",
    "while a<=10:\n",
    "    print(a)\n",
    "    a+=1"
   ]
  },
  {
   "cell_type": "markdown",
   "id": "2c266a4d-8a9f-44f9-9eea-b2657d825d95",
   "metadata": {},
   "source": [
    "## For Loop"
   ]
  },
  {
   "cell_type": "code",
   "execution_count": 31,
   "id": "778020a4-7ac3-4136-a8da-e0b3533aa081",
   "metadata": {},
   "outputs": [],
   "source": [
    "# for iterationVariable in definedVariable:\n",
    "#     codeblock / statement"
   ]
  },
  {
   "cell_type": "code",
   "execution_count": 34,
   "id": "c2173b95-5918-4c9b-9152-d7786cf4c009",
   "metadata": {},
   "outputs": [
    {
     "name": "stdout",
     "output_type": "stream",
     "text": [
      "Apple\n",
      "Banana\n"
     ]
    }
   ],
   "source": [
    "fruit = ['Apple','Banana','PineApple','Kiwi','Mango']\n",
    "\n",
    "for i in fruit:\n",
    "    if i == 'PineApple':\n",
    "        break\n",
    "    print(i)"
   ]
  },
  {
   "cell_type": "code",
   "execution_count": 35,
   "id": "fc293c5f-729b-4912-973e-805f88684b93",
   "metadata": {},
   "outputs": [
    {
     "name": "stdout",
     "output_type": "stream",
     "text": [
      "Apple\n",
      "Banana\n",
      "Kiwi\n",
      "Mango\n"
     ]
    }
   ],
   "source": [
    "fruit = ['Apple','Banana','PineApple','Kiwi','Mango']\n",
    "\n",
    "for i in fruit:\n",
    "    if i == 'PineApple':\n",
    "        continue\n",
    "    print(i)"
   ]
  },
  {
   "cell_type": "markdown",
   "id": "7489398d-3e28-469e-ad9d-3d9fd0dd87b3",
   "metadata": {},
   "source": [
    "### Class Excercise\n",
    "## NUMBER GUESSING GAME\n",
    "\n",
    "Rules:\n",
    "\n",
    "- user min and max range\n",
    "- user has limited chances based on the difficulty level ( EASY ( has more chance), Medium(less chances and also random max range), Hard (min chances and also max random max range))\n",
    "  "
   ]
  },
  {
   "cell_type": "code",
   "execution_count": 1,
   "id": "64d331de-97bd-4d26-a09a-882b41c584e6",
   "metadata": {},
   "outputs": [],
   "source": [
    "import random"
   ]
  },
  {
   "cell_type": "code",
   "execution_count": null,
   "id": "2453b098-6579-4243-bba4-d1a2f8a77105",
   "metadata": {},
   "outputs": [
    {
     "name": "stdin",
     "output_type": "stream",
     "text": [
      "Enter Minimum Range:  1\n",
      "Enter Maximum Range:  5\n",
      "Enter Your Choice: \n",
      "1. Easy\n",
      "2. Medium \n",
      "3. Hard\n",
      "\n",
      "Enter Number 1,2,3 :  3\n"
     ]
    },
    {
     "name": "stdout",
     "output_type": "stream",
     "text": [
      "The Guess Range is between 1 to 350.\n"
     ]
    }
   ],
   "source": [
    "\n",
    "minRange = input(\"Enter Minimum Range: \")\n",
    "maxRange = input(\"Enter Maximum Range: \")\n",
    "userChoice = int(input(\"\"\"Enter Your Choice: \n",
    "1. Easy\n",
    "2. Medium \n",
    "3. Hard\n",
    "\n",
    "Enter Number 1,2,3 : \"\"\"))\n",
    "\n",
    "if minRange.isdigit() and maxRange.isdigit():\n",
    "    minRange = int(minRange)\n",
    "    maxRange = int(maxRange)\n",
    "    \n",
    "    if minRange < maxRange:\n",
    "\n",
    "        if userChoice == 1:\n",
    "            chances = 7\n",
    "        elif userChoice == 2:\n",
    "            chances = 5\n",
    "            maxRange *= random.randint(10,50)\n",
    "        elif userChoice == 3:\n",
    "            chances = 3\n",
    "            maxRange *= random.randint(60,90)\n",
    "            \n",
    "        computerGuess = random.randrange(minRange,maxRange)\n",
    "        print(f\"The Guess Range is between {minRange} to {maxRange}.\")\n",
    "        \n",
    "        while True:\n",
    "            userGuess = int(input(\"Enter your Guess Number: \"))\n",
    "            \n",
    "            if userGuess == computerGuess:\n",
    "                print(\"You Win\")\n",
    "                break    \n",
    "            elif userGuess < computerGuess:\n",
    "                print(\"You Guess Low\")\n",
    "            else:\n",
    "                print(\"You Guess High\")\n",
    "    else:\n",
    "        print(\"Enter Minium Range less than Maximum Range\")\n",
    "else:\n",
    "    print(\"Enter Number Only in the Range\")"
   ]
  },
  {
   "cell_type": "code",
   "execution_count": null,
   "id": "9311b3f9-5d22-4825-b305-a2faf4263df4",
   "metadata": {},
   "outputs": [],
   "source": []
  },
  {
   "cell_type": "code",
   "execution_count": null,
   "id": "5c0434e0-282d-444f-932b-ba1e202ba95b",
   "metadata": {},
   "outputs": [],
   "source": []
  }
 ],
 "metadata": {
  "kernelspec": {
   "display_name": "Python 3 (ipykernel)",
   "language": "python",
   "name": "python3"
  },
  "language_info": {
   "codemirror_mode": {
    "name": "ipython",
    "version": 3
   },
   "file_extension": ".py",
   "mimetype": "text/x-python",
   "name": "python",
   "nbconvert_exporter": "python",
   "pygments_lexer": "ipython3",
   "version": "3.13.5"
  }
 },
 "nbformat": 4,
 "nbformat_minor": 5
}
