{
 "cells": [
  {
   "cell_type": "markdown",
   "id": "3b718367-3991-4a31-91a2-7ae79e2d155b",
   "metadata": {},
   "source": [
    "## Fuctions"
   ]
  },
  {
   "cell_type": "code",
   "execution_count": null,
   "id": "76161da4-7f1c-45a2-ae24-5a2092ef913b",
   "metadata": {},
   "outputs": [],
   "source": [
    "# def functionName():\n",
    "#     code Block / Statment"
   ]
  },
  {
   "cell_type": "code",
   "execution_count": 1,
   "id": "641940d0-db81-4fae-b8dd-fd42ab3c9f23",
   "metadata": {},
   "outputs": [],
   "source": [
    "def greeting():\n",
    "    print(\"Welcome to the Python\")"
   ]
  },
  {
   "cell_type": "code",
   "execution_count": 2,
   "id": "54d4d972-06e0-4f26-a393-96fe53ed814d",
   "metadata": {},
   "outputs": [
    {
     "name": "stdout",
     "output_type": "stream",
     "text": [
      "Welcome to the Python\n"
     ]
    }
   ],
   "source": [
    "greeting()"
   ]
  },
  {
   "cell_type": "code",
   "execution_count": 3,
   "id": "838b3e97-9106-497c-810d-e345619b3b80",
   "metadata": {},
   "outputs": [
    {
     "name": "stdout",
     "output_type": "stream",
     "text": [
      "Welcome to the Python\n",
      "None\n"
     ]
    }
   ],
   "source": [
    "print(greeting())"
   ]
  },
  {
   "cell_type": "code",
   "execution_count": 4,
   "id": "3a305ec8-de2e-4ee8-9ede-329f336edd0c",
   "metadata": {},
   "outputs": [],
   "source": [
    "def greeting(name):\n",
    "    print(f\"My Name is {name}\")"
   ]
  },
  {
   "cell_type": "code",
   "execution_count": 8,
   "id": "220c1c77-8bdf-43b9-a656-843c638d47c1",
   "metadata": {},
   "outputs": [
    {
     "name": "stdout",
     "output_type": "stream",
     "text": [
      "My Name is Danial\n"
     ]
    }
   ],
   "source": [
    "greeting(\"Danial\")"
   ]
  },
  {
   "cell_type": "code",
   "execution_count": 9,
   "id": "e23acd96-8a89-4da7-8a7c-f9c2d7b58ae6",
   "metadata": {},
   "outputs": [],
   "source": [
    "def greeting(name):\n",
    "    return f\"My Name is {name}\""
   ]
  },
  {
   "cell_type": "code",
   "execution_count": 10,
   "id": "883c6dec-fa78-49c1-9b73-3c5fa8b62368",
   "metadata": {},
   "outputs": [
    {
     "data": {
      "text/plain": [
       "'My Name is Danial'"
      ]
     },
     "execution_count": 10,
     "metadata": {},
     "output_type": "execute_result"
    }
   ],
   "source": [
    "greeting(\"Danial\")"
   ]
  },
  {
   "cell_type": "code",
   "execution_count": 11,
   "id": "ccb75191-43dd-4cbc-a90d-a5a7e2a84cb4",
   "metadata": {},
   "outputs": [
    {
     "name": "stdout",
     "output_type": "stream",
     "text": [
      "My Name is Danial\n"
     ]
    }
   ],
   "source": [
    "print(greeting(\"Danial\"))"
   ]
  },
  {
   "cell_type": "code",
   "execution_count": 12,
   "id": "b5cc7ade-e913-4f0d-b0a4-295470872eeb",
   "metadata": {},
   "outputs": [],
   "source": [
    "def add():\n",
    "    print(1+3)"
   ]
  },
  {
   "cell_type": "code",
   "execution_count": 13,
   "id": "20a5853d-bb6f-427d-b2fd-8e5c585b7f33",
   "metadata": {},
   "outputs": [
    {
     "name": "stdout",
     "output_type": "stream",
     "text": [
      "4\n"
     ]
    }
   ],
   "source": [
    "add()"
   ]
  },
  {
   "cell_type": "code",
   "execution_count": 14,
   "id": "abfe5cd3-2985-4018-aca1-6558c12ae6e8",
   "metadata": {},
   "outputs": [],
   "source": [
    "def hello():\n",
    "    print('hello world')"
   ]
  },
  {
   "cell_type": "code",
   "execution_count": 15,
   "id": "85ad6e9a-ef54-43f5-ad2e-28277524f1f3",
   "metadata": {},
   "outputs": [
    {
     "name": "stdout",
     "output_type": "stream",
     "text": [
      "hello world\n"
     ]
    }
   ],
   "source": [
    "hello()"
   ]
  },
  {
   "cell_type": "code",
   "execution_count": 16,
   "id": "6ed39a80-6203-436c-9a77-12bf057ca5a2",
   "metadata": {},
   "outputs": [
    {
     "name": "stdout",
     "output_type": "stream",
     "text": [
      "hello world\n"
     ]
    }
   ],
   "source": [
    "hello()"
   ]
  },
  {
   "cell_type": "code",
   "execution_count": 20,
   "id": "508809fe-8b24-49f6-9f75-3e8acef2b6c3",
   "metadata": {},
   "outputs": [],
   "source": [
    "def minus(num):\n",
    "    print(num-3)"
   ]
  },
  {
   "cell_type": "code",
   "execution_count": 21,
   "id": "8fbac093-eb0a-4ba1-8b1f-b7f34a243ece",
   "metadata": {},
   "outputs": [
    {
     "name": "stdout",
     "output_type": "stream",
     "text": [
      "2\n"
     ]
    }
   ],
   "source": [
    "minus(5)"
   ]
  },
  {
   "cell_type": "code",
   "execution_count": 22,
   "id": "96ad52c6-254a-40db-acee-f24fcceef29f",
   "metadata": {},
   "outputs": [],
   "source": [
    "def multiply(num:int):\n",
    "    print(num*2)\n",
    "    "
   ]
  },
  {
   "cell_type": "code",
   "execution_count": 24,
   "id": "8562fc72-33fe-419f-85d0-0c49393905b0",
   "metadata": {},
   "outputs": [
    {
     "name": "stdout",
     "output_type": "stream",
     "text": [
      "hellohello\n"
     ]
    }
   ],
   "source": [
    "multiply('hello')"
   ]
  },
  {
   "cell_type": "code",
   "execution_count": 25,
   "id": "ef288070-a0e3-481c-ab0d-c2f0052cd0af",
   "metadata": {},
   "outputs": [],
   "source": [
    "def plus(num1:int,num2:int):\n",
    "    print(num1+num2)"
   ]
  },
  {
   "cell_type": "code",
   "execution_count": 27,
   "id": "57d78e45-469c-436c-bd08-5dafabf2f444",
   "metadata": {},
   "outputs": [
    {
     "name": "stdout",
     "output_type": "stream",
     "text": [
      "15\n"
     ]
    }
   ],
   "source": [
    "plus(12,3)"
   ]
  },
  {
   "cell_type": "code",
   "execution_count": 28,
   "id": "ac930309-affa-43cd-910c-a42bf9dbcbde",
   "metadata": {},
   "outputs": [
    {
     "ename": "TypeError",
     "evalue": "plus() missing 2 required positional arguments: 'num1' and 'num2'",
     "output_type": "error",
     "traceback": [
      "\u001b[31m---------------------------------------------------------------------------\u001b[39m",
      "\u001b[31mTypeError\u001b[39m                                 Traceback (most recent call last)",
      "\u001b[36mCell\u001b[39m\u001b[36m \u001b[39m\u001b[32mIn[28]\u001b[39m\u001b[32m, line 1\u001b[39m\n\u001b[32m----> \u001b[39m\u001b[32m1\u001b[39m \u001b[43mplus\u001b[49m\u001b[43m(\u001b[49m\u001b[43m)\u001b[49m\n",
      "\u001b[31mTypeError\u001b[39m: plus() missing 2 required positional arguments: 'num1' and 'num2'"
     ]
    }
   ],
   "source": [
    "plus()"
   ]
  },
  {
   "cell_type": "code",
   "execution_count": 29,
   "id": "1fcfeebd-ebfc-4da4-b22c-59a4c7bbb13f",
   "metadata": {},
   "outputs": [],
   "source": [
    "def plus(num1:int=5,num2:int=5):\n",
    "    print(num1+num2)"
   ]
  },
  {
   "cell_type": "code",
   "execution_count": 31,
   "id": "0123112e-6d02-48d2-91d4-e09eb22f59ef",
   "metadata": {},
   "outputs": [
    {
     "name": "stdout",
     "output_type": "stream",
     "text": [
      "30\n"
     ]
    }
   ],
   "source": [
    "plus(15,15)"
   ]
  },
  {
   "cell_type": "code",
   "execution_count": 32,
   "id": "8430c041-d396-4b4f-98ce-f24b261d3f8a",
   "metadata": {},
   "outputs": [
    {
     "name": "stdout",
     "output_type": "stream",
     "text": [
      "7\n"
     ]
    }
   ],
   "source": [
    "plus(2)"
   ]
  },
  {
   "cell_type": "code",
   "execution_count": 34,
   "id": "79c765af-311e-462c-8644-4cb72ab220f9",
   "metadata": {},
   "outputs": [],
   "source": [
    "def discount_cal(name:str,total_bill:int):\n",
    "    discount=0\n",
    "    if total_bill>=50000:\n",
    "        discount=total_bill*0.1\n",
    "    elif total_bill>=40000:\n",
    "        discount=total_bill*0.05\n",
    "    elif total_bill>=30000:\n",
    "        discount=total_bill*0.02\n",
    "    else:\n",
    "        discount=0\n",
    "    print(f'''your name is {name} and your total bill is {total_bill} and \n",
    "    your discount is {discount} and grand total is {total_bill-discount}''')\n",
    "        \n",
    "        \n",
    "    \n",
    "    "
   ]
  },
  {
   "cell_type": "code",
   "execution_count": 37,
   "id": "355c7971-04aa-454e-bfa1-2f0c6d21d0d8",
   "metadata": {},
   "outputs": [
    {
     "name": "stdout",
     "output_type": "stream",
     "text": [
      "your name is ubaid and your total bill is 40000 and \n",
      "    your discount is 2000.0 and grand total is 38000.0\n"
     ]
    }
   ],
   "source": [
    "discount=discount_cal(name='ubaid',total_bill=40000)"
   ]
  },
  {
   "cell_type": "code",
   "execution_count": 38,
   "id": "6e7a99e5-bad6-41e2-9b94-6c5028cf3bd5",
   "metadata": {},
   "outputs": [
    {
     "name": "stdout",
     "output_type": "stream",
     "text": [
      "None\n"
     ]
    }
   ],
   "source": [
    "print(discount)"
   ]
  },
  {
   "cell_type": "code",
   "execution_count": 39,
   "id": "527c1ff2-15d3-4fbb-a1d9-ed7d5a31b829",
   "metadata": {},
   "outputs": [],
   "source": [
    "def discount_cal(name:str,total_bill:int):\n",
    "    discount=0\n",
    "    if total_bill>=50000:\n",
    "        discount=total_bill*0.1\n",
    "    elif total_bill>=40000:\n",
    "        discount=total_bill*0.05\n",
    "    elif total_bill>=30000:\n",
    "        discount=total_bill*0.02\n",
    "    else:\n",
    "        discount=0\n",
    "    return f'''your name is {name} and your total bill is {total_bill} and \n",
    "    your discount is {discount} and grand total is {total_bill-discount}'''\n",
    "        "
   ]
  },
  {
   "cell_type": "code",
   "execution_count": 41,
   "id": "60f80106-86db-4fde-a57a-a55e394c737a",
   "metadata": {},
   "outputs": [],
   "source": [
    "a=discount_cal(name='zubair',total_bill=20000)"
   ]
  },
  {
   "cell_type": "code",
   "execution_count": 42,
   "id": "f074e40c-e28b-4cdb-8485-c6db5e6f30c3",
   "metadata": {},
   "outputs": [
    {
     "data": {
      "text/plain": [
       "'your name is zubair and your total bill is 20000 and \\n    your discount is 0 and grand total is 20000'"
      ]
     },
     "execution_count": 42,
     "metadata": {},
     "output_type": "execute_result"
    }
   ],
   "source": [
    "a"
   ]
  },
  {
   "cell_type": "code",
   "execution_count": 43,
   "id": "08feab85-626f-47ca-adf1-c2484602df62",
   "metadata": {},
   "outputs": [],
   "source": [
    "def discount_cal(name:str='ubaid',total_bill:int=0):\n",
    "    discount=0\n",
    "    if total_bill>=50000:\n",
    "        discount=total_bill*0.1\n",
    "    elif total_bill>=40000:\n",
    "        discount=total_bill*0.05\n",
    "    elif total_bill>=30000:\n",
    "        discount=total_bill*0.02\n",
    "    else:\n",
    "        discount=0\n",
    "    return f'''your name is {name} and your total bill is {total_bill} and \n",
    "    your discount is {discount} and grand total is {total_bill-discount}'''"
   ]
  },
  {
   "cell_type": "code",
   "execution_count": 44,
   "id": "6149894a-fef2-4ae2-83d0-4c41994ae518",
   "metadata": {},
   "outputs": [
    {
     "data": {
      "text/plain": [
       "'your name is ubaid and your total bill is 0 and \\n    your discount is 0 and grand total is 0'"
      ]
     },
     "execution_count": 44,
     "metadata": {},
     "output_type": "execute_result"
    }
   ],
   "source": [
    "discount_cal()"
   ]
  },
  {
   "cell_type": "code",
   "execution_count": 45,
   "id": "b3c931fc-3b9d-484c-bf1d-379d51cce519",
   "metadata": {},
   "outputs": [
    {
     "data": {
      "text/plain": [
       "'your name is ubaid and your total bill is 22000 and \\n    your discount is 0 and grand total is 22000'"
      ]
     },
     "execution_count": 45,
     "metadata": {},
     "output_type": "execute_result"
    }
   ],
   "source": [
    "discount_cal(total_bill=22000)"
   ]
  },
  {
   "cell_type": "code",
   "execution_count": 51,
   "id": "b1821e92-4e20-4f12-a156-474111d5e7fb",
   "metadata": {},
   "outputs": [],
   "source": [
    "def func(name,**args):\n",
    "    print(name)"
   ]
  },
  {
   "cell_type": "code",
   "execution_count": 52,
   "id": "c77335c0-f1db-470b-a1ce-44aa3b3422db",
   "metadata": {},
   "outputs": [
    {
     "name": "stdout",
     "output_type": "stream",
     "text": [
      "ubaid\n"
     ]
    }
   ],
   "source": [
    "func(name='ubaid',)"
   ]
  },
  {
   "cell_type": "code",
   "execution_count": 53,
   "id": "bc31d4ed-2687-40aa-bbdb-5ac2793db7c5",
   "metadata": {},
   "outputs": [],
   "source": [
    "def fun(*args):\n",
    "    return sum(args)"
   ]
  },
  {
   "cell_type": "code",
   "execution_count": 57,
   "id": "2d5fed40-f650-41ce-ae17-f3169c7a47b9",
   "metadata": {},
   "outputs": [
    {
     "data": {
      "text/plain": [
       "7505"
      ]
     },
     "execution_count": 57,
     "metadata": {},
     "output_type": "execute_result"
    }
   ],
   "source": [
    "fun(22,33,77,7373)"
   ]
  },
  {
   "cell_type": "code",
   "execution_count": 61,
   "id": "8c8b1622-a015-472c-9391-bc506b2b0e13",
   "metadata": {},
   "outputs": [],
   "source": [
    "def minus(**kwargs):\n",
    "    return kwargs.get('num1')"
   ]
  },
  {
   "cell_type": "code",
   "execution_count": 62,
   "id": "d5416624-55e2-4e35-b99d-5c8a564660cc",
   "metadata": {},
   "outputs": [
    {
     "data": {
      "text/plain": [
       "66"
      ]
     },
     "execution_count": 62,
     "metadata": {},
     "output_type": "execute_result"
    }
   ],
   "source": [
    "minus(num1=66)"
   ]
  },
  {
   "cell_type": "code",
   "execution_count": 63,
   "id": "5e07b00e-3e49-422b-8a4e-0f49b86e6986",
   "metadata": {},
   "outputs": [],
   "source": [
    "minus(num2=77)"
   ]
  },
  {
   "cell_type": "code",
   "execution_count": 64,
   "id": "9ee8b62b-6279-4c00-88bc-f56d9e354897",
   "metadata": {},
   "outputs": [],
   "source": [
    "a={'name':'ubaid','fname':'imran'}"
   ]
  },
  {
   "cell_type": "code",
   "execution_count": 65,
   "id": "96980485-0752-4ead-aa59-d612c66f8fe9",
   "metadata": {},
   "outputs": [
    {
     "data": {
      "text/plain": [
       "'ubaid'"
      ]
     },
     "execution_count": 65,
     "metadata": {},
     "output_type": "execute_result"
    }
   ],
   "source": [
    "a['name']"
   ]
  },
  {
   "cell_type": "code",
   "execution_count": 66,
   "id": "34b380aa-e2a5-4b11-84be-bb123f3cb322",
   "metadata": {},
   "outputs": [
    {
     "ename": "KeyError",
     "evalue": "'num1'",
     "output_type": "error",
     "traceback": [
      "\u001b[31m---------------------------------------------------------------------------\u001b[39m",
      "\u001b[31mKeyError\u001b[39m                                  Traceback (most recent call last)",
      "\u001b[36mCell\u001b[39m\u001b[36m \u001b[39m\u001b[32mIn[66]\u001b[39m\u001b[32m, line 1\u001b[39m\n\u001b[32m----> \u001b[39m\u001b[32m1\u001b[39m \u001b[43ma\u001b[49m\u001b[43m[\u001b[49m\u001b[33;43m'\u001b[39;49m\u001b[33;43mnum1\u001b[39;49m\u001b[33;43m'\u001b[39;49m\u001b[43m]\u001b[49m\n",
      "\u001b[31mKeyError\u001b[39m: 'num1'"
     ]
    }
   ],
   "source": [
    "a['num1']"
   ]
  },
  {
   "cell_type": "code",
   "execution_count": 67,
   "id": "f94a9468-7632-469d-9ff5-8fb240399fe4",
   "metadata": {},
   "outputs": [
    {
     "data": {
      "text/plain": [
       "'ubaid'"
      ]
     },
     "execution_count": 67,
     "metadata": {},
     "output_type": "execute_result"
    }
   ],
   "source": [
    "a.get('name')"
   ]
  },
  {
   "cell_type": "code",
   "execution_count": 68,
   "id": "c611f2ab-9ca3-4bbc-9785-b855673182c7",
   "metadata": {},
   "outputs": [],
   "source": [
    "a.get('num1')"
   ]
  },
  {
   "cell_type": "code",
   "execution_count": 72,
   "id": "134a8244-8f56-4228-8614-e96866a4299b",
   "metadata": {},
   "outputs": [],
   "source": [
    "def func(**kwargs):\n",
    "    print(kwargs['num'])"
   ]
  },
  {
   "cell_type": "code",
   "execution_count": 73,
   "id": "0b6fc883-9144-478b-8247-d3c3507d8f1c",
   "metadata": {},
   "outputs": [
    {
     "name": "stdout",
     "output_type": "stream",
     "text": [
      "88\n"
     ]
    }
   ],
   "source": [
    "func(name='ubaid',num=88)"
   ]
  },
  {
   "cell_type": "code",
   "execution_count": 74,
   "id": "d1ce725f-f39f-49ca-93fc-277138448f3d",
   "metadata": {},
   "outputs": [],
   "source": [
    "d={'name':'ubaid','roll_no':737373}"
   ]
  },
  {
   "cell_type": "code",
   "execution_count": 76,
   "id": "111007ae-bf48-4f1f-ab6a-08a62728dcf6",
   "metadata": {},
   "outputs": [
    {
     "data": {
      "text/plain": [
       "dict_values(['ubaid', 737373])"
      ]
     },
     "execution_count": 76,
     "metadata": {},
     "output_type": "execute_result"
    }
   ],
   "source": [
    "d.values()"
   ]
  },
  {
   "cell_type": "code",
   "execution_count": 77,
   "id": "7e14da2d-2d6e-4dd6-aa57-97e90a2d7aa5",
   "metadata": {},
   "outputs": [
    {
     "data": {
      "text/plain": [
       "dict_keys(['name', 'roll_no'])"
      ]
     },
     "execution_count": 77,
     "metadata": {},
     "output_type": "execute_result"
    }
   ],
   "source": [
    "d.keys()"
   ]
  },
  {
   "cell_type": "code",
   "execution_count": 78,
   "id": "8e86228b-2039-4fdf-83fb-1aa5e112c2cc",
   "metadata": {},
   "outputs": [
    {
     "data": {
      "text/plain": [
       "dict_items([('name', 'ubaid'), ('roll_no', 737373)])"
      ]
     },
     "execution_count": 78,
     "metadata": {},
     "output_type": "execute_result"
    }
   ],
   "source": [
    "d.items()"
   ]
  },
  {
   "cell_type": "code",
   "execution_count": 79,
   "id": "2b847926-b511-4ccf-a3d3-85233672c825",
   "metadata": {},
   "outputs": [
    {
     "name": "stdout",
     "output_type": "stream",
     "text": [
      "name ubaid\n",
      "roll_no 737373\n"
     ]
    }
   ],
   "source": [
    "for i,v in d.items():\n",
    "    print(i,v)"
   ]
  },
  {
   "cell_type": "markdown",
   "id": "d4aa7d3b-e420-44d4-99c5-203583549414",
   "metadata": {},
   "source": [
    "## Async func :"
   ]
  },
  {
   "cell_type": "code",
   "execution_count": 80,
   "id": "e69da12b-85d0-4757-98ba-41e70a94c53a",
   "metadata": {},
   "outputs": [],
   "source": [
    "async def hello():\n",
    "    return 'hello world'"
   ]
  },
  {
   "cell_type": "code",
   "execution_count": 82,
   "id": "290300fc-abe6-44a1-8ac0-d10fb4725384",
   "metadata": {},
   "outputs": [
    {
     "data": {
      "text/plain": [
       "'hello world'"
      ]
     },
     "execution_count": 82,
     "metadata": {},
     "output_type": "execute_result"
    }
   ],
   "source": [
    "await hello()"
   ]
  },
  {
   "cell_type": "code",
   "execution_count": 90,
   "id": "510add3f-05c7-4202-b87b-2b62554a9d1e",
   "metadata": {},
   "outputs": [],
   "source": [
    "async def func(string:str):\n",
    "    return int(string)"
   ]
  },
  {
   "cell_type": "code",
   "execution_count": 91,
   "id": "f89a61d4-dace-42a7-85ad-3c940535d8d9",
   "metadata": {},
   "outputs": [
    {
     "data": {
      "text/plain": [
       "<coroutine object func at 0x000001B84B4FEB00>"
      ]
     },
     "execution_count": 91,
     "metadata": {},
     "output_type": "execute_result"
    }
   ],
   "source": [
    "func('hello')"
   ]
  },
  {
   "cell_type": "code",
   "execution_count": 97,
   "id": "2ae692e5-8f44-409d-96d6-90b6d79984e6",
   "metadata": {},
   "outputs": [],
   "source": [
    "def decorator(func):\n",
    "    def wrapper():\n",
    "        print('function is started')\n",
    "        func()\n",
    "        print('function is ending')\n",
    "    return wrapper"
   ]
  },
  {
   "cell_type": "code",
   "execution_count": 98,
   "id": "a436ca9c-a924-457f-bca9-a632989b2bc7",
   "metadata": {},
   "outputs": [],
   "source": [
    "def hello():\n",
    "    print('hello world')"
   ]
  },
  {
   "cell_type": "code",
   "execution_count": 99,
   "id": "80f9115d-6f55-4fef-b35e-da6a455f1b4d",
   "metadata": {},
   "outputs": [
    {
     "name": "stdout",
     "output_type": "stream",
     "text": [
      "hello world\n"
     ]
    }
   ],
   "source": [
    "hello()"
   ]
  },
  {
   "cell_type": "code",
   "execution_count": 100,
   "id": "39c39a09-58ea-417f-a193-a2c2086049be",
   "metadata": {},
   "outputs": [],
   "source": [
    "@decorator\n",
    "def hello():\n",
    "    print('hello')"
   ]
  },
  {
   "cell_type": "code",
   "execution_count": 1,
   "id": "0f0eae9b-f145-40b6-8e6e-74ac351481a6",
   "metadata": {},
   "outputs": [],
   "source": [
    "async def write_file(content:str):\n",
    "    with open('ouput.txt','w') as file:\n",
    "        file.write(content)\n",
    "    return 'file write successfully'"
   ]
  },
  {
   "cell_type": "code",
   "execution_count": 3,
   "id": "d559651f-a644-4f67-b861-33c83d49e463",
   "metadata": {},
   "outputs": [
    {
     "data": {
      "text/plain": [
       "'file write successfully'"
      ]
     },
     "execution_count": 3,
     "metadata": {},
     "output_type": "execute_result"
    }
   ],
   "source": [
    "await write_file('this is a very good boy')"
   ]
  },
  {
   "cell_type": "code",
   "execution_count": 4,
   "id": "787e0018-e66d-46c7-b678-93addc691904",
   "metadata": {},
   "outputs": [],
   "source": [
    "def write_file(content:str):\n",
    "    with open('ouput.txt','w') as file:\n",
    "        file.write(content)\n",
    "    return 'file write successfully'"
   ]
  },
  {
   "cell_type": "code",
   "execution_count": 6,
   "id": "e5ecb136-8b5a-4d3d-9cba-88a70999d270",
   "metadata": {},
   "outputs": [
    {
     "data": {
      "text/plain": [
       "'file write successfully'"
      ]
     },
     "execution_count": 6,
     "metadata": {},
     "output_type": "execute_result"
    }
   ],
   "source": [
    "write_file('jdksksks')"
   ]
  },
  {
   "cell_type": "code",
   "execution_count": 7,
   "id": "e186c339-235b-4406-b539-9a486fec3dab",
   "metadata": {},
   "outputs": [],
   "source": [
    "import os\n",
    "async def read_file(file_name:str):\n",
    "    if os.path.exists(file_name):\n",
    "        with open(file_name,'r') as file:\n",
    "            return file.read()\n",
    "    else:\n",
    "        return 'file does not exist'"
   ]
  },
  {
   "cell_type": "code",
   "execution_count": 10,
   "id": "94c5a268-4395-4157-bbe9-f7cfa4445557",
   "metadata": {},
   "outputs": [
    {
     "data": {
      "text/plain": [
       "'file does not exist'"
      ]
     },
     "execution_count": 10,
     "metadata": {},
     "output_type": "execute_result"
    }
   ],
   "source": [
    "await read_file('ouput1.txt')"
   ]
  },
  {
   "cell_type": "code",
   "execution_count": 11,
   "id": "da697052-86ca-43d0-9766-c4a62e9a1de7",
   "metadata": {},
   "outputs": [],
   "source": [
    "def plus():\n",
    "    return 2+2"
   ]
  },
  {
   "cell_type": "code",
   "execution_count": 12,
   "id": "07ec1f58-40f1-4a0c-bac7-2d4077a64df2",
   "metadata": {},
   "outputs": [
    {
     "data": {
      "text/plain": [
       "4"
      ]
     },
     "execution_count": 12,
     "metadata": {},
     "output_type": "execute_result"
    }
   ],
   "source": [
    "plus()"
   ]
  },
  {
   "cell_type": "code",
   "execution_count": 17,
   "id": "1da891dc-876d-4578-bae0-16fb56f90054",
   "metadata": {},
   "outputs": [],
   "source": [
    "def decorator(func):\n",
    "    def wrapper():\n",
    "        return func()+2\n",
    "    return wrapper"
   ]
  },
  {
   "cell_type": "code",
   "execution_count": 20,
   "id": "3ad8e737-7459-492b-94ba-a86dd6ce43cb",
   "metadata": {},
   "outputs": [],
   "source": [
    "@decorator\n",
    "def plus():\n",
    "    return 3+2"
   ]
  },
  {
   "cell_type": "code",
   "execution_count": 21,
   "id": "8b853878-a8f9-4e90-b31d-1ab39e77ece2",
   "metadata": {},
   "outputs": [
    {
     "data": {
      "text/plain": [
       "7"
      ]
     },
     "execution_count": 21,
     "metadata": {},
     "output_type": "execute_result"
    }
   ],
   "source": [
    "plus()"
   ]
  },
  {
   "cell_type": "code",
   "execution_count": 26,
   "id": "a8b25345-af5b-41e5-a2d0-dd70aaa62d89",
   "metadata": {},
   "outputs": [],
   "source": [
    "def hello_decorator(func):\n",
    "    def wrapper():\n",
    "        return func()+'world'\n",
    "    return wrapper"
   ]
  },
  {
   "cell_type": "code",
   "execution_count": 24,
   "id": "5ab874e8-b4b7-4954-a888-6e0d4d85f16c",
   "metadata": {},
   "outputs": [],
   "source": [
    "@hello_decorator\n",
    "def hello():\n",
    "    return 'helo'"
   ]
  },
  {
   "cell_type": "code",
   "execution_count": 25,
   "id": "dba68da3-749e-4d44-82c1-4ef160c86708",
   "metadata": {},
   "outputs": [
    {
     "data": {
      "text/plain": [
       "'heloworld'"
      ]
     },
     "execution_count": 25,
     "metadata": {},
     "output_type": "execute_result"
    }
   ],
   "source": [
    "hello()"
   ]
  }
 ],
 "metadata": {
  "kernelspec": {
   "display_name": "Python 3 (ipykernel)",
   "language": "python",
   "name": "python3"
  },
  "language_info": {
   "codemirror_mode": {
    "name": "ipython",
    "version": 3
   },
   "file_extension": ".py",
   "mimetype": "text/x-python",
   "name": "python",
   "nbconvert_exporter": "python",
   "pygments_lexer": "ipython3",
   "version": "3.13.5"
  }
 },
 "nbformat": 4,
 "nbformat_minor": 5
}
