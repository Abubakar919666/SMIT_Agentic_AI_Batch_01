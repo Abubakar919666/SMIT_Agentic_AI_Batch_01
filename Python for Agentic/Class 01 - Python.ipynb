{
 "cells": [
  {
   "cell_type": "markdown",
   "id": "36a77798-5fe8-40d3-aa5a-4217401c9817",
   "metadata": {},
   "source": [
    "# Python \n",
    "\n",
    "# Printing formatting"
   ]
  },
  {
   "cell_type": "code",
   "execution_count": 2,
   "id": "cee8d910-c9f7-42bf-a953-b309ac10ead6",
   "metadata": {},
   "outputs": [
    {
     "name": "stdout",
     "output_type": "stream",
     "text": [
      "Hello, World\n"
     ]
    }
   ],
   "source": [
    "print(\"Hello, World\")"
   ]
  },
  {
   "cell_type": "code",
   "execution_count": 5,
   "id": "59d39d7b-4b62-4e3f-a952-f972a6954774",
   "metadata": {},
   "outputs": [
    {
     "name": "stdout",
     "output_type": "stream",
     "text": [
      "AGENTIC AI KE DUNIYA\n"
     ]
    }
   ],
   "source": [
    "print('AGENTIC AI KE DUNIYA') # Just Display simple text\n",
    "# 00100111       00100111           00100111 "
   ]
  },
  {
   "cell_type": "code",
   "execution_count": 7,
   "id": "0b502924-826b-4429-bc4f-9baf27016f92",
   "metadata": {},
   "outputs": [
    {
     "name": "stdout",
     "output_type": "stream",
     "text": [
      "AGENTIC'AI KE DUNIYA\n"
     ]
    }
   ],
   "source": [
    "print(\"AGENTIC'AI KE DUNIYA\") # Display text with ' words\n",
    "# 10000100 "
   ]
  },
  {
   "cell_type": "code",
   "execution_count": 8,
   "id": "9df25b58-3871-49ed-a467-cb95f7d75c9c",
   "metadata": {},
   "outputs": [
    {
     "name": "stdout",
     "output_type": "stream",
     "text": [
      " AGENTIC'AI \n",
      "KE DUNIYA \n"
     ]
    }
   ],
   "source": [
    "print(\"\"\" AGENTIC'AI \n",
    "KE DUNIYA \"\"\") # Multiline format display"
   ]
  },
  {
   "cell_type": "markdown",
   "id": "70200e05-fc0a-49cd-b283-0afff52c0da6",
   "metadata": {},
   "source": [
    "# Singular DATA TYPES\n",
    "\n",
    "- String\n",
    "- Int\n",
    "- Float\n",
    "- Boolean\n",
    "- Complex "
   ]
  },
  {
   "cell_type": "code",
   "execution_count": 10,
   "id": "1ba96099-bf2b-43a2-8dea-40ca7436b879",
   "metadata": {},
   "outputs": [
    {
     "data": {
      "text/plain": [
       "'PYTHON FIRST CLASS'"
      ]
     },
     "execution_count": 10,
     "metadata": {},
     "output_type": "execute_result"
    }
   ],
   "source": [
    "# string\n",
    "var = \"PYTHON FIRST CLASS\"\n",
    "var"
   ]
  },
  {
   "cell_type": "code",
   "execution_count": 11,
   "id": "19a47e1e-abf1-4655-95e8-e1aa9f383375",
   "metadata": {},
   "outputs": [
    {
     "data": {
      "text/plain": [
       "420"
      ]
     },
     "execution_count": 11,
     "metadata": {},
     "output_type": "execute_result"
    }
   ],
   "source": [
    "#  int\n",
    "num = 420\n",
    "num"
   ]
  },
  {
   "cell_type": "code",
   "execution_count": 12,
   "id": "327ab6a9-d611-4256-a9a1-870c43e20a55",
   "metadata": {},
   "outputs": [
    {
     "data": {
      "text/plain": [
       "str"
      ]
     },
     "execution_count": 12,
     "metadata": {},
     "output_type": "execute_result"
    }
   ],
   "source": [
    "type(var)"
   ]
  },
  {
   "cell_type": "code",
   "execution_count": 13,
   "id": "0fda1887-6f42-4af1-ad32-09ea35212805",
   "metadata": {},
   "outputs": [
    {
     "data": {
      "text/plain": [
       "int"
      ]
     },
     "execution_count": 13,
     "metadata": {},
     "output_type": "execute_result"
    }
   ],
   "source": [
    "type(num)"
   ]
  },
  {
   "cell_type": "code",
   "execution_count": 14,
   "id": "fba86131-deff-4f6c-9247-0b5e869aa1c0",
   "metadata": {},
   "outputs": [
    {
     "data": {
      "text/plain": [
       "100.123"
      ]
     },
     "execution_count": 14,
     "metadata": {},
     "output_type": "execute_result"
    }
   ],
   "source": [
    "float_ = 100.123\n",
    "float_"
   ]
  },
  {
   "cell_type": "code",
   "execution_count": 15,
   "id": "d04af054-f198-4fbc-ae3e-32a453cbb1af",
   "metadata": {},
   "outputs": [
    {
     "data": {
      "text/plain": [
       "float"
      ]
     },
     "execution_count": 15,
     "metadata": {},
     "output_type": "execute_result"
    }
   ],
   "source": [
    "type(float_)"
   ]
  },
  {
   "cell_type": "code",
   "execution_count": 1,
   "id": "6c4a7a5b-1944-4db0-abed-282b37088a1e",
   "metadata": {},
   "outputs": [],
   "source": [
    "boolean1 = True\n",
    "boolean2 = False"
   ]
  },
  {
   "cell_type": "code",
   "execution_count": 2,
   "id": "6244cf0e-97c9-4fb2-bc38-00b33d5d6dd3",
   "metadata": {},
   "outputs": [
    {
     "data": {
      "text/plain": [
       "True"
      ]
     },
     "execution_count": 2,
     "metadata": {},
     "output_type": "execute_result"
    }
   ],
   "source": [
    "boolean1"
   ]
  },
  {
   "cell_type": "code",
   "execution_count": 3,
   "id": "8b80c339-84c5-4ce0-b61a-e2feea3aff9b",
   "metadata": {},
   "outputs": [
    {
     "data": {
      "text/plain": [
       "False"
      ]
     },
     "execution_count": 3,
     "metadata": {},
     "output_type": "execute_result"
    }
   ],
   "source": [
    "boolean2"
   ]
  },
  {
   "cell_type": "code",
   "execution_count": 4,
   "id": "1e80280d-bf1d-497a-bfe9-51fba9cd76e1",
   "metadata": {},
   "outputs": [
    {
     "data": {
      "text/plain": [
       "bool"
      ]
     },
     "execution_count": 4,
     "metadata": {},
     "output_type": "execute_result"
    }
   ],
   "source": [
    "type(boolean1)"
   ]
  },
  {
   "cell_type": "markdown",
   "id": "0860f520-e913-424a-9df6-a11f1a1b70f2",
   "metadata": {},
   "source": [
    "## Variables \n",
    "\n",
    "- legal\n",
    "- illegal"
   ]
  },
  {
   "cell_type": "code",
   "execution_count": 5,
   "id": "bf943157-2252-40d0-aa91-a6195ba90365",
   "metadata": {},
   "outputs": [],
   "source": [
    "# # legal\n",
    "# name\n",
    "# name1\n",
    "# name_\n",
    "# _name\n",
    "\n",
    "# # illegal\n",
    "\n",
    "# @name\n",
    "# str\n",
    "# 12name"
   ]
  },
  {
   "cell_type": "code",
   "execution_count": 10,
   "id": "b3ccccd7-87f5-4e32-9967-34c5296a0d9d",
   "metadata": {},
   "outputs": [
    {
     "data": {
      "text/plain": [
       "'AB'"
      ]
     },
     "execution_count": 10,
     "metadata": {},
     "output_type": "execute_result"
    }
   ],
   "source": [
    "name = \"ABCD\"\n",
    "name[0:2] # index [starting index : ending index \"n-1\"]"
   ]
  },
  {
   "cell_type": "code",
   "execution_count": 16,
   "id": "8f283680-5023-476b-950e-04064981a3f5",
   "metadata": {},
   "outputs": [],
   "source": [
    "sent = \"Python is a high-level, general-purpose programming language. Its design philosophy emphasizes code readability with the use of significant indentation. Python is dynamically type-checked and garbage-collected.\""
   ]
  },
  {
   "cell_type": "code",
   "execution_count": 17,
   "id": "73ea4d88-6ead-4e1c-89ac-5df09f3f1976",
   "metadata": {},
   "outputs": [
    {
     "data": {
      "text/plain": [
       "210"
      ]
     },
     "execution_count": 17,
     "metadata": {},
     "output_type": "execute_result"
    }
   ],
   "source": [
    "len(sent)"
   ]
  },
  {
   "cell_type": "code",
   "execution_count": 18,
   "id": "9935d28f-a064-427d-8826-97e9c474de68",
   "metadata": {},
   "outputs": [],
   "source": [
    "lang = sent[:6]"
   ]
  },
  {
   "cell_type": "code",
   "execution_count": 22,
   "id": "bfc9a8cb-21db-42f9-a9dd-0617e19332de",
   "metadata": {},
   "outputs": [
    {
     "data": {
      "text/plain": [
       "'Python'"
      ]
     },
     "execution_count": 22,
     "metadata": {},
     "output_type": "execute_result"
    }
   ],
   "source": [
    "lang"
   ]
  },
  {
   "cell_type": "code",
   "execution_count": 31,
   "id": "1602169c-39a8-46e7-9c29-5842f9354773",
   "metadata": {},
   "outputs": [
    {
     "name": "stdout",
     "output_type": "stream",
     "text": [
      "Enter Number Only:  ab\n"
     ]
    }
   ],
   "source": [
    "var = input(\"Enter Number Only: \")"
   ]
  },
  {
   "cell_type": "code",
   "execution_count": 32,
   "id": "79622421-78d8-4859-8c84-7bcd790fe03c",
   "metadata": {},
   "outputs": [
    {
     "data": {
      "text/plain": [
       "str"
      ]
     },
     "execution_count": 32,
     "metadata": {},
     "output_type": "execute_result"
    }
   ],
   "source": [
    "type(var)"
   ]
  },
  {
   "cell_type": "code",
   "execution_count": 33,
   "id": "f8c18090-7d5a-46a4-9791-102bb9ae9401",
   "metadata": {},
   "outputs": [
    {
     "data": {
      "text/plain": [
       "False"
      ]
     },
     "execution_count": 33,
     "metadata": {},
     "output_type": "execute_result"
    }
   ],
   "source": [
    "var.isdigit()"
   ]
  },
  {
   "cell_type": "code",
   "execution_count": 34,
   "id": "bc0f680f-dc93-4484-ba44-fc2a7aec0357",
   "metadata": {},
   "outputs": [],
   "source": [
    "num1 = 854j"
   ]
  },
  {
   "cell_type": "code",
   "execution_count": 35,
   "id": "232cda53-6ffa-4205-9327-c5a5b253c1b1",
   "metadata": {},
   "outputs": [
    {
     "data": {
      "text/plain": [
       "complex"
      ]
     },
     "execution_count": 35,
     "metadata": {},
     "output_type": "execute_result"
    }
   ],
   "source": [
    "type(num1)"
   ]
  },
  {
   "cell_type": "code",
   "execution_count": null,
   "id": "996b43b7-19f7-4691-9d8c-58ca9428d850",
   "metadata": {},
   "outputs": [],
   "source": []
  },
  {
   "cell_type": "code",
   "execution_count": null,
   "id": "e5344eec-36df-4294-b3b8-0146979bcb57",
   "metadata": {},
   "outputs": [],
   "source": []
  },
  {
   "cell_type": "code",
   "execution_count": null,
   "id": "a8858cab-0d51-48a6-941f-1c114335f763",
   "metadata": {},
   "outputs": [],
   "source": []
  },
  {
   "cell_type": "code",
   "execution_count": null,
   "id": "eea8ed7f-cb65-481c-aa45-9bd859c85e75",
   "metadata": {},
   "outputs": [],
   "source": []
  },
  {
   "cell_type": "code",
   "execution_count": null,
   "id": "f3cc6b35-129e-4d35-8c3c-370a259db645",
   "metadata": {},
   "outputs": [],
   "source": []
  },
  {
   "cell_type": "code",
   "execution_count": null,
   "id": "14d15a98-e03d-4400-b86e-154ea50e71fd",
   "metadata": {},
   "outputs": [],
   "source": []
  },
  {
   "cell_type": "code",
   "execution_count": null,
   "id": "1ad030ec-0c99-44c2-8039-04fc9fcedff5",
   "metadata": {},
   "outputs": [],
   "source": []
  },
  {
   "cell_type": "code",
   "execution_count": null,
   "id": "32fba8ba-9031-4959-b418-28333305f71c",
   "metadata": {},
   "outputs": [],
   "source": []
  },
  {
   "cell_type": "code",
   "execution_count": null,
   "id": "abe97c0d-17ce-4023-9921-f9a00f626bbe",
   "metadata": {},
   "outputs": [],
   "source": []
  }
 ],
 "metadata": {
  "kernelspec": {
   "display_name": "Python 3 (ipykernel)",
   "language": "python",
   "name": "python3"
  },
  "language_info": {
   "codemirror_mode": {
    "name": "ipython",
    "version": 3
   },
   "file_extension": ".py",
   "mimetype": "text/x-python",
   "name": "python",
   "nbconvert_exporter": "python",
   "pygments_lexer": "ipython3",
   "version": "3.13.5"
  }
 },
 "nbformat": 4,
 "nbformat_minor": 5
}
