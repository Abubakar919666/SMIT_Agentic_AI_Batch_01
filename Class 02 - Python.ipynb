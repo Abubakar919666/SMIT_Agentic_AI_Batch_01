{
 "cells": [
  {
   "cell_type": "markdown",
   "id": "380ffc08-4c7b-4f4d-85b0-1dc529205b57",
   "metadata": {},
   "source": [
    "# Compound Data Types\n",
    "\n",
    "- List\n",
    "- Tuple\n",
    "- Set\n",
    "- Dict"
   ]
  },
  {
   "cell_type": "markdown",
   "id": "9642bc84-5211-48d0-b5a6-142a35603af6",
   "metadata": {},
   "source": [
    "## List\n",
    "\n",
    "-Ordered, Changeable, Duplicates\n",
    "\n",
    "MUTABLE"
   ]
  },
  {
   "cell_type": "code",
   "execution_count": 28,
   "id": "d12b7e1b-88ae-4039-b966-19dc5bc3d376",
   "metadata": {},
   "outputs": [],
   "source": [
    "AGI = [\"AGENTIC AI\", 2, 2.5, True]"
   ]
  },
  {
   "cell_type": "code",
   "execution_count": 29,
   "id": "83662b08-e2c8-4484-a556-1fca9a927f86",
   "metadata": {},
   "outputs": [
    {
     "data": {
      "text/plain": [
       "['AGENTIC AI', 2, 2.5, True]"
      ]
     },
     "execution_count": 29,
     "metadata": {},
     "output_type": "execute_result"
    }
   ],
   "source": [
    "AGI"
   ]
  },
  {
   "cell_type": "code",
   "execution_count": 30,
   "id": "20832db5-b3d8-4095-b91f-b9f199509b83",
   "metadata": {},
   "outputs": [],
   "source": [
    "AGI.append(\"GOOD LUCK\")"
   ]
  },
  {
   "cell_type": "code",
   "execution_count": 31,
   "id": "83fa8c59-6365-4d20-874a-bc6129426fc4",
   "metadata": {},
   "outputs": [
    {
     "data": {
      "text/plain": [
       "['AGENTIC AI', 2, 2.5, True, 'GOOD LUCK']"
      ]
     },
     "execution_count": 31,
     "metadata": {},
     "output_type": "execute_result"
    }
   ],
   "source": [
    "AGI"
   ]
  },
  {
   "cell_type": "code",
   "execution_count": 32,
   "id": "78915708-3b0d-4317-b2b6-0d295865bd89",
   "metadata": {},
   "outputs": [],
   "source": [
    "# [ starting Index : Ending Index : Steps]"
   ]
  },
  {
   "cell_type": "code",
   "execution_count": 33,
   "id": "2151515d-e185-4704-a62f-1efe99ba86f3",
   "metadata": {},
   "outputs": [
    {
     "data": {
      "text/plain": [
       "['AGENTIC AI', 'GOOD LUCK']"
      ]
     },
     "execution_count": 33,
     "metadata": {},
     "output_type": "execute_result"
    }
   ],
   "source": [
    "AGI[::4]"
   ]
  },
  {
   "cell_type": "code",
   "execution_count": 24,
   "id": "1a21b17f-e299-4bb0-82e8-92aee42d12a3",
   "metadata": {},
   "outputs": [
    {
     "data": {
      "text/plain": [
       "16"
      ]
     },
     "execution_count": 24,
     "metadata": {},
     "output_type": "execute_result"
    }
   ],
   "source": [
    "AGI.count(2)"
   ]
  },
  {
   "cell_type": "code",
   "execution_count": 25,
   "id": "5d679efd-a4e3-41b0-91b7-75af28b61bd8",
   "metadata": {},
   "outputs": [],
   "source": [
    "AGI.extend(\"HELLO WORLD\")"
   ]
  },
  {
   "cell_type": "code",
   "execution_count": 26,
   "id": "f4142099-7a02-4ae1-8bf8-f2d7ba6554eb",
   "metadata": {},
   "outputs": [
    {
     "data": {
      "text/plain": [
       "['AGENTIC AI',\n",
       " 2,\n",
       " 2,\n",
       " 2,\n",
       " 2,\n",
       " 2,\n",
       " 2,\n",
       " 2,\n",
       " 2,\n",
       " 2,\n",
       " 2,\n",
       " 2,\n",
       " 2,\n",
       " 2,\n",
       " 2,\n",
       " 2,\n",
       " 2,\n",
       " 2.5,\n",
       " True,\n",
       " 'GOOD LUCK',\n",
       " 'H',\n",
       " 'E',\n",
       " 'L',\n",
       " 'L',\n",
       " 'O',\n",
       " ' ',\n",
       " 'W',\n",
       " 'O',\n",
       " 'R',\n",
       " 'L',\n",
       " 'D']"
      ]
     },
     "execution_count": 26,
     "metadata": {},
     "output_type": "execute_result"
    }
   ],
   "source": [
    "AGI"
   ]
  },
  {
   "cell_type": "code",
   "execution_count": 34,
   "id": "0868c99b-55cb-4a88-b4f2-2437647c74f4",
   "metadata": {},
   "outputs": [
    {
     "data": {
      "text/plain": [
       "['AGENTIC AI', 'AI', 2, 2.5, True, 'GOOD LUCK']"
      ]
     },
     "execution_count": 34,
     "metadata": {},
     "output_type": "execute_result"
    }
   ],
   "source": [
    "AGI.insert(1, \"AI\")\n",
    "AGI"
   ]
  },
  {
   "cell_type": "code",
   "execution_count": 37,
   "id": "b81a5f7c-6a07-47d2-a03d-02cc7eb48683",
   "metadata": {},
   "outputs": [
    {
     "data": {
      "text/plain": [
       "['AGENTIC AI', ['AI', 'ANI'], 2, 2.5, True, 'GOOD LUCK']"
      ]
     },
     "execution_count": 37,
     "metadata": {},
     "output_type": "execute_result"
    }
   ],
   "source": [
    "AGI[1] = [\"AI\",\"ANI\"]\n",
    "AGI"
   ]
  },
  {
   "cell_type": "markdown",
   "id": "428efcc2-2abc-4658-b2f5-9db67a0b54ee",
   "metadata": {},
   "source": [
    "## Tuple\n",
    "\n",
    "- Ordered, Unchangeable, Duplicates Allow\n",
    "- Immutable"
   ]
  },
  {
   "cell_type": "code",
   "execution_count": 1,
   "id": "8940d3b2-2f8d-4654-b29b-f4dd7c178ad4",
   "metadata": {},
   "outputs": [
    {
     "data": {
      "text/plain": [
       "('AGENTIC AI', 2, 2.5, True)"
      ]
     },
     "execution_count": 1,
     "metadata": {},
     "output_type": "execute_result"
    }
   ],
   "source": [
    "tuple1 = (\"AGENTIC AI\", 2, 2.5, True)\n",
    "tuple1"
   ]
  },
  {
   "cell_type": "code",
   "execution_count": 2,
   "id": "3f311de1-c3b7-4b89-8e19-68cf387dc371",
   "metadata": {},
   "outputs": [
    {
     "data": {
      "text/plain": [
       "1"
      ]
     },
     "execution_count": 2,
     "metadata": {},
     "output_type": "execute_result"
    }
   ],
   "source": [
    "tuple1.index(2)"
   ]
  },
  {
   "cell_type": "code",
   "execution_count": 3,
   "id": "5e51f8c5-81e5-4642-83b3-a978340ddb2e",
   "metadata": {},
   "outputs": [
    {
     "data": {
      "text/plain": [
       "['AGENTIC AI', 2, 2.5, True]"
      ]
     },
     "execution_count": 3,
     "metadata": {},
     "output_type": "execute_result"
    }
   ],
   "source": [
    "listTuple = list(tuple1)\n",
    "listTuple"
   ]
  },
  {
   "cell_type": "code",
   "execution_count": 4,
   "id": "8ac3bac3-2931-4ce7-8f26-d8feee701acd",
   "metadata": {},
   "outputs": [
    {
     "data": {
      "text/plain": [
       "('AGENTIC AI', 2, 2.5, True)"
      ]
     },
     "execution_count": 4,
     "metadata": {},
     "output_type": "execute_result"
    }
   ],
   "source": [
    "tuple1"
   ]
  },
  {
   "cell_type": "markdown",
   "id": "ab4834ba-b05e-411c-b333-f6daa43ceac2",
   "metadata": {},
   "source": [
    "# Sets\n",
    "\n",
    "- Unordered, Changeable, No-Duplicates\n",
    "- Mutable"
   ]
  },
  {
   "cell_type": "code",
   "execution_count": 8,
   "id": "42def43b-204b-4c87-a6c2-e129a9d27b24",
   "metadata": {},
   "outputs": [
    {
     "data": {
      "text/plain": [
       "{0, 1, 2, 3, 4, 5, 6, 7, 8, 9, 'A', 'AAPPLE', 'APPLE', 'B', 'C', 'D'}"
      ]
     },
     "execution_count": 8,
     "metadata": {},
     "output_type": "execute_result"
    }
   ],
   "source": [
    "set1 = {1,2,3,4,5,6,7,8,9,0,\"A\",\"B\",\"C\",\"D\",\"APPLE\",\"AAPPLE\"}\n",
    "set1"
   ]
  },
  {
   "cell_type": "code",
   "execution_count": 9,
   "id": "ad2a7ded-3fd8-4e5f-9c2e-6b517aad6308",
   "metadata": {},
   "outputs": [
    {
     "data": {
      "text/plain": [
       "{0, 1, 2, 3, 4, 5, 6, 7, 8, 9, 'A', 'AAPPLE', 'APPLE', 'B', 'C', 'D'}"
      ]
     },
     "execution_count": 9,
     "metadata": {},
     "output_type": "execute_result"
    }
   ],
   "source": [
    "set1"
   ]
  },
  {
   "cell_type": "code",
   "execution_count": 18,
   "id": "f7dc1985-5ae8-446b-b4c3-f64bcfb3b291",
   "metadata": {},
   "outputs": [
    {
     "data": {
      "text/plain": [
       "4"
      ]
     },
     "execution_count": 18,
     "metadata": {},
     "output_type": "execute_result"
    }
   ],
   "source": [
    "set1.pop()"
   ]
  },
  {
   "cell_type": "code",
   "execution_count": 19,
   "id": "5c445f34-ac2b-4788-8d55-d0ab3d773862",
   "metadata": {},
   "outputs": [
    {
     "data": {
      "text/plain": [
       "{5, 6, 7, 8, 9, 'A', 'AAPPLE', 'APPLE', 'B', 'C', 'D'}"
      ]
     },
     "execution_count": 19,
     "metadata": {},
     "output_type": "execute_result"
    }
   ],
   "source": [
    "set1"
   ]
  },
  {
   "cell_type": "markdown",
   "id": "7016e1e7-920c-4aee-a778-b72d34755892",
   "metadata": {},
   "source": [
    "## DICT\n",
    "\n",
    "- Changeable, Keys Duplicate not allow, Value Duplicate allow.\n",
    "- Mutable"
   ]
  },
  {
   "cell_type": "code",
   "execution_count": 20,
   "id": "75219b9b-35a4-4ac5-b670-66c2e3139f06",
   "metadata": {},
   "outputs": [],
   "source": [
    "dict1 = {\"Class\" : \"Agentic Ai\",\"Student Count\": 102}"
   ]
  },
  {
   "cell_type": "code",
   "execution_count": 26,
   "id": "898d068a-e2d0-48f5-b2bc-8ef83e8c5756",
   "metadata": {},
   "outputs": [
    {
     "data": {
      "text/plain": [
       "'Agentic Ai'"
      ]
     },
     "execution_count": 26,
     "metadata": {},
     "output_type": "execute_result"
    }
   ],
   "source": [
    "dict1[\"Class\"]"
   ]
  },
  {
   "cell_type": "code",
   "execution_count": null,
   "id": "69a19726-e6a2-425d-b20b-aac3246e5432",
   "metadata": {},
   "outputs": [],
   "source": []
  },
  {
   "cell_type": "code",
   "execution_count": null,
   "id": "1ccb7840-5037-4df6-882c-3ebc307be734",
   "metadata": {},
   "outputs": [],
   "source": []
  },
  {
   "cell_type": "code",
   "execution_count": null,
   "id": "41cf33b8-5363-45ba-bb93-233ea72af2c4",
   "metadata": {},
   "outputs": [],
   "source": []
  },
  {
   "cell_type": "code",
   "execution_count": null,
   "id": "fb400e40-1b62-42af-ba1c-83e9bd8f50dc",
   "metadata": {},
   "outputs": [],
   "source": []
  },
  {
   "cell_type": "code",
   "execution_count": null,
   "id": "8ec20b01-97e0-4245-ad97-eb999dc56061",
   "metadata": {},
   "outputs": [],
   "source": []
  }
 ],
 "metadata": {
  "kernelspec": {
   "display_name": "Python 3 (ipykernel)",
   "language": "python",
   "name": "python3"
  },
  "language_info": {
   "codemirror_mode": {
    "name": "ipython",
    "version": 3
   },
   "file_extension": ".py",
   "mimetype": "text/x-python",
   "name": "python",
   "nbconvert_exporter": "python",
   "pygments_lexer": "ipython3",
   "version": "3.13.5"
  }
 },
 "nbformat": 4,
 "nbformat_minor": 5
}
